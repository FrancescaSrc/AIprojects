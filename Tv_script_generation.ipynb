{
  "nbformat": 4,
  "nbformat_minor": 0,
  "metadata": {
    "colab": {
      "name": "Tv_script_generation.ipynb",
      "version": "0.3.2",
      "provenance": [],
      "include_colab_link": true
    },
    "kernelspec": {
      "name": "python3",
      "display_name": "Python 3"
    },
    "accelerator": "GPU"
  },
  "cells": [
    {
      "cell_type": "markdown",
      "metadata": {
        "id": "view-in-github",
        "colab_type": "text"
      },
      "source": [
        "<a href=\"https://colab.research.google.com/github/FrancescaSrc/AIprojects/blob/master/Tv_script_generation.ipynb\" target=\"_parent\"><img src=\"https://colab.research.google.com/assets/colab-badge.svg\" alt=\"Open In Colab\"/></a>"
      ]
    },
    {
      "metadata": {
        "id": "HHBE7yZnmtF9",
        "colab_type": "text"
      },
      "cell_type": "markdown",
      "source": [
        "# TV Script Generation\n",
        "\n",
        "In this project, I have generated a [Seinfeld](https://en.wikipedia.org/wiki/Seinfeld) TV scripts using RNNs using  part of the [Seinfeld dataset](https://www.kaggle.com/thec03u5/seinfeld-chronicles#scripts.csv) of scripts from 9 seasons.  The Neural Network trained generates a new ,\"fake\" TV script, based on patterns it recognizes in the given training data.\n",
        "\n",
        "## The Data\n",
        "\n",
        "The original data is can be found in the `Seinfeld_Scripts.txt` . If you are trying out the script, place it in the right directory."
      ]
    },
    {
      "metadata": {
        "id": "SsAk3kXRmx7U",
        "colab_type": "code",
        "outputId": "f4bb94ec-ebfd-4c73-ec9c-eb8c80ed017b",
        "colab": {
          "base_uri": "https://localhost:8080/",
          "height": 125
        }
      },
      "cell_type": "code",
      "source": [
        "from google.colab import drive\n",
        "drive.mount('/content/drive/')"
      ],
      "execution_count": 0,
      "outputs": [
        {
          "output_type": "stream",
          "text": [
            "Go to this URL in a browser: https://accounts.google.com/o/oauth2/auth?client_id=947318989803-6bn6qk8qdgf4n4g3pfee6491hc0brc4i.apps.googleusercontent.com&redirect_uri=urn%3Aietf%3Awg%3Aoauth%3A2.0%3Aoob&scope=email%20https%3A%2F%2Fwww.googleapis.com%2Fauth%2Fdocs.test%20https%3A%2F%2Fwww.googleapis.com%2Fauth%2Fdrive%20https%3A%2F%2Fwww.googleapis.com%2Fauth%2Fdrive.photos.readonly%20https%3A%2F%2Fwww.googleapis.com%2Fauth%2Fpeopleapi.readonly&response_type=code\n",
            "\n",
            "Enter your authorization code:\n",
            "··········\n",
            "Mounted at /content/drive/\n"
          ],
          "name": "stdout"
        }
      ]
    },
    {
      "metadata": {
        "id": "4CFR6ZuKm_lg",
        "colab_type": "code",
        "colab": {}
      },
      "cell_type": "code",
      "source": [
        "def load_data(path):\n",
        "    \"\"\"\n",
        "    Load Dataset from File\n",
        "    \"\"\"\n",
        "    input_file = os.path.join(path)\n",
        "    with open(input_file, \"r\") as f:\n",
        "        data = f.read()\n",
        "\n",
        "    return data\n",
        "  \n",
        "\n",
        "# load in data\n",
        "import os\n",
        "import pickle\n",
        "import torch\n",
        "data_dir = 'drive/My Drive/Colab Notebooks/../data/Seinfeld_Scripts.txt'\n",
        "text = load_data(data_dir)"
      ],
      "execution_count": 0,
      "outputs": []
    },
    {
      "metadata": {
        "id": "canMj4C-mtF_",
        "colab_type": "code",
        "colab": {}
      },
      "cell_type": "code",
      "source": [
        "\n",
        "# load in data\n",
        "import helper\n",
        "data_dir = './data/Seinfeld_Scripts.txt'\n",
        "text = helper.load_data(data_dir)"
      ],
      "execution_count": 0,
      "outputs": []
    },
    {
      "metadata": {
        "id": "coLPyosZmtGD",
        "colab_type": "text"
      },
      "cell_type": "markdown",
      "source": [
        "## Explore the Data\n"
      ]
    },
    {
      "metadata": {
        "id": "BrtghlNUmtGE",
        "colab_type": "code",
        "outputId": "face0495-1072-4789-85ec-43a2401375a0",
        "colab": {
          "base_uri": "https://localhost:8080/",
          "height": 318
        }
      },
      "cell_type": "code",
      "source": [
        "view_line_range = (0, 10)\n",
        "\n",
        "import numpy as np\n",
        "\n",
        "print('Dataset Stats')\n",
        "print('Roughly the number of unique words: {}'.format(len({word: None for word in text.split()})))\n",
        "\n",
        "lines = text.split('\\n')\n",
        "print('Number of lines: {}'.format(len(lines)))\n",
        "word_count_line = [len(line.split()) for line in lines]\n",
        "print('Average number of words in each line: {}'.format(np.average(word_count_line)))\n",
        "\n",
        "print()\n",
        "print('The lines {} to {}:'.format(*view_line_range))\n",
        "print('\\n'.join(text.split('\\n')[view_line_range[0]:view_line_range[1]]))"
      ],
      "execution_count": 0,
      "outputs": [
        {
          "output_type": "stream",
          "text": [
            "Dataset Stats\n",
            "Roughly the number of unique words: 46367\n",
            "Number of lines: 109233\n",
            "Average number of words in each line: 5.544240293684143\n",
            "\n",
            "The lines 0 to 10:\n",
            "jerry: do you know what this is all about? do you know, why were here? to be out, this is out...and out is one of the single most enjoyable experiences of life. people...did you ever hear people talking about we should go out? this is what theyre talking about...this whole thing, were all out now, no one is home. not one person here is home, were all out! there are people trying to find us, they dont know where we are. (on an imaginary phone) did you ring?, i cant find him. where did he go? he didnt tell me where he was going. he must have gone out. you wanna go out you get ready, you pick out the clothes, right? you take the shower, you get all ready, get the cash, get your friends, the car, the spot, the reservation...then youre standing around, what do you do? you go we gotta be getting back. once youre out, you wanna get back! you wanna go to sleep, you wanna get up, you wanna go out again tomorrow, right? where ever you are in life, its my feeling, youve gotta go. \n",
            "\n",
            "jerry: (pointing at georges shirt) see, to me, that button is in the worst possible spot. the second button literally makes or breaks the shirt, look at it. its too high! its in no-mans-land. you look like you live with your mother. \n",
            "\n",
            "george: are you through? \n",
            "\n",
            "jerry: you do of course try on, when you buy? \n",
            "\n",
            "george: yes, it was purple, i liked it, i dont actually recall considering the buttons. \n",
            "\n"
          ],
          "name": "stdout"
        }
      ]
    },
    {
      "metadata": {
        "id": "96DmPIxomtGL",
        "colab_type": "text"
      },
      "cell_type": "markdown",
      "source": [
        "---\n",
        "##  Pre-processing Functions\n",
        "The first thing to do to any dataset is pre-processing.  \n",
        "- Lookup Table\n",
        "- Tokenize Punctuation\n",
        "\n",
        "### Lookup Table\n",
        "To create a word embedding: first transform the words to ids and create two dictionaries:\n",
        "- Dictionary to go from the words to an id, we'll call `vocab_to_int`\n",
        "- Dictionary to go from the id to word, we'll call `int_to_vocab`\n"
      ]
    },
    {
      "metadata": {
        "id": "HXxyjPBomtGM",
        "colab_type": "code",
        "outputId": "f9566cc1-058f-4670-fb5b-70d2bbf7d056",
        "colab": {}
      },
      "cell_type": "code",
      "source": [
        "import problem_unittests as tests\n",
        "from collections import Counter\n",
        "\n",
        "def create_lookup_tables(text):\n",
        "    \"\"\"\n",
        "    Create lookup tables for vocabulary\n",
        "    :param text: The text of tv scripts split into words\n",
        "    :return: A tuple of dicts (vocab_to_int, int_to_vocab)\n",
        "    \"\"\"\n",
        "    word_counts = Counter(text)\n",
        "    # sorting the words from most to least frequent in text occurrence\n",
        "    sorted_vocab = sorted(word_counts, key=word_counts.get, reverse=True)\n",
        "    # create int_to_vocab dictionaries\n",
        "    int_to_vocab = {ii: word for ii, word in enumerate(sorted_vocab)}\n",
        "    vocab_to_int = {word: ii for ii, word in int_to_vocab.items()}\n",
        "\n",
        "    return vocab_to_int, int_to_vocab\n",
        "\n",
        "\n",
        "\n",
        "\n",
        "tests.test_create_lookup_tables(create_lookup_tables)"
      ],
      "execution_count": 0,
      "outputs": [
        {
          "output_type": "stream",
          "text": [
            "Tests Passed\n"
          ],
          "name": "stdout"
        }
      ]
    },
    {
      "metadata": {
        "id": "fhmF6NQlmtGR",
        "colab_type": "text"
      },
      "cell_type": "markdown",
      "source": [
        "### Tokenize Punctuation\n",
        "\n",
        "\n",
        "Function `token_lookup`  returns a dict that will be used to tokenize symbols like \"!\" into \"||Exclamation_Mark||\".  Create a dictionary for the following symbols where the symbol is the key and value is the token:\n",
        "- Period ( **.** )\n",
        "- Comma ( **,** )\n",
        "- Quotation Mark ( **\"** )\n",
        "- Semicolon ( **;** )\n",
        "- Exclamation mark ( **!** )\n",
        "- Question mark ( **?** )\n",
        "- Left Parentheses ( **(** )\n",
        "- Right Parentheses ( **)** )\n",
        "- Dash ( **-** )\n",
        "- Return ( **\\n** )\n",
        "\n",
        "This dictionary will be used to tokenize the symbols and add the delimiter (space) around it.  This separates each symbols as its own word, making it easier for the neural network to predict the next word. Make sure you don't use a value that could be confused as a word; for example, instead of using the value \"dash\", try using something like \"||dash||\"."
      ]
    },
    {
      "metadata": {
        "id": "GoE9MdlqmtGS",
        "colab_type": "code",
        "outputId": "bb748a62-c476-49f3-e7d1-84be04c529aa",
        "colab": {}
      },
      "cell_type": "code",
      "source": [
        "def token_lookup():\n",
        "    \"\"\"\n",
        "    Generate a dict to turn punctuation into a token.\n",
        "    :return: Tokenized dictionary where the key is the punctuation and the value is the token\n",
        "    \"\"\"\n",
        "    token_dic={\n",
        "        '.' : '||PERIOD||',\n",
        "        ',' : '||COMMA||',\n",
        "        '?' : '||QUOTATION_MARK||',\n",
        "        ';' : '||SEMICOLON||',\n",
        "        '!' : '||EXCLAMATION_MARK||',\n",
        "        '?' : '||QUESTION_MARK||',\n",
        "        '(' : '||LEFT_PAREN||',\n",
        "        ')' : '||RIGHT_PAREN||',\n",
        "        '-' : '||DASH||',\n",
        "        '\\n' : '||RETURN||',\n",
        "        '\"' : '||QUOTATION_MARK||'\n",
        "              \n",
        "    }\n",
        "        \n",
        "    return token_dic\n",
        "\n",
        "\"\"\"\n",
        "DON'T MODIFY ANYTHING IN THIS CELL THAT IS BELOW THIS LINE\n",
        "\"\"\"\n",
        "tests.test_tokenize(token_lookup)"
      ],
      "execution_count": 0,
      "outputs": [
        {
          "output_type": "stream",
          "text": [
            "Tests Passed\n"
          ],
          "name": "stdout"
        }
      ]
    },
    {
      "metadata": {
        "id": "qZ-N3xZTmtGX",
        "colab_type": "text"
      },
      "cell_type": "markdown",
      "source": [
        "## Pre-process all the data and save it\n",
        "\n",
        "Running the code cell below will pre-process all the data and save it to file. Helper file was given."
      ]
    },
    {
      "metadata": {
        "id": "bZKbFnYxmtGY",
        "colab_type": "code",
        "colab": {}
      },
      "cell_type": "code",
      "source": [
        "\n",
        "# pre-process training data\n",
        "helper.preprocess_and_save_data(data_dir, token_lookup, create_lookup_tables)"
      ],
      "execution_count": 0,
      "outputs": []
    },
    {
      "metadata": {
        "id": "PlQr1vERmtGb",
        "colab_type": "text"
      },
      "cell_type": "markdown",
      "source": [
        "# Check Point\n",
        "The preprocessed data has been saved to disk."
      ]
    },
    {
      "metadata": {
        "id": "jtPpmeMimtGc",
        "colab_type": "code",
        "colab": {}
      },
      "cell_type": "code",
      "source": [
        "\n",
        "import helper\n",
        "import problem_unittests as tests\n",
        "\n",
        "int_text, vocab_to_int, int_to_vocab, token_dict = helper.load_preprocess()"
      ],
      "execution_count": 0,
      "outputs": []
    },
    {
      "metadata": {
        "id": "CkCTRj6EmtGf",
        "colab_type": "text"
      },
      "cell_type": "markdown",
      "source": [
        "## Build the Neural Network\n",
        "In this section, you'll build the components necessary to build an RNN by implementing the RNN Module and forward and backpropagation functions.\n",
        "\n",
        "### Check Access to GPU"
      ]
    },
    {
      "metadata": {
        "id": "shVDwQKZmtGg",
        "colab_type": "code",
        "colab": {}
      },
      "cell_type": "code",
      "source": [
        "\n",
        "import torch\n",
        "\n",
        "# Check for a GPU\n",
        "train_on_gpu = torch.cuda.is_available()\n",
        "if not train_on_gpu:\n",
        "    print('No GPU found. Please use a GPU to train your neural network.')"
      ],
      "execution_count": 0,
      "outputs": []
    },
    {
      "metadata": {
        "id": "iYwsIhFymtGj",
        "colab_type": "text"
      },
      "cell_type": "markdown",
      "source": [
        "### Creata a Dataloader and Batching\n",
        "Implementation of the `batch_data` function to batch `words` data into chunks of size `batch_size` using the `TensorDataset` and `DataLoader` classes.\n",
        "\n",
        "\n"
      ]
    },
    {
      "metadata": {
        "id": "DeD6jyDSmtGk",
        "colab_type": "code",
        "colab": {}
      },
      "cell_type": "code",
      "source": [
        "from torch.utils.data import TensorDataset, DataLoader\n",
        "\n",
        "\n",
        "def batch_data(words, sequence_length, batch_size):\n",
        "    \"\"\"\n",
        "    Batch the neural network data using DataLoader\n",
        "    :param words: The word ids of the TV scripts\n",
        "    :param sequence_length: The sequence length of each batch\n",
        "    :param batch_size: The size of each batch; the number of sequences in a batch\n",
        "    :return: DataLoader with batched data\n",
        "    \"\"\"\n",
        "    batch_size_total = batch_size * sequence_length\n",
        "    # total number of batches we can make\n",
        "    n_batches = len(words)//batch_size_total\n",
        "    x, y = [], []\n",
        "    for idx in range(0, len(words), batch_size):\n",
        "        batch = words[idx:idx+batch_size]\n",
        "        #print(batch)\n",
        "        for ii in range(len(batch)-sequence_length):\n",
        "            batch_x = batch[ii:sequence_length+ii]\n",
        "            #print(\"feature: \",batch_x)\n",
        "            batch_y = batch[len(batch_x)+ii]\n",
        "            #print(\"target: \",batch_y)\n",
        "            y.extend([batch_y])\n",
        "            x.extend([batch_x]*len([batch_y]))\n",
        "       \n",
        "    #print('features', x)\n",
        "    #print('targets', y)\n",
        "    data = TensorDataset(torch.from_numpy(np.asarray(x)), torch.from_numpy(np.asarray(y)))\n",
        "    data_loader = torch.utils.data.DataLoader(data, \n",
        "                                          batch_size=batch_size, shuffle=True)\n",
        "    # return a dataloader\n",
        "    return data_loader\n",
        "\n",
        "\n",
        "# there is no test for this function, but you are encouraged to create\n",
        "# print statements and tests of your own\n"
      ],
      "execution_count": 0,
      "outputs": []
    },
    {
      "metadata": {
        "id": "U1iNOuyfmtGp",
        "colab_type": "code",
        "outputId": "7300f6b6-cc86-45ad-805c-3cb4ab2cfc9d",
        "colab": {
          "base_uri": "https://localhost:8080/",
          "height": 263
        }
      },
      "cell_type": "code",
      "source": [
        "# test dataloader\n",
        "\n",
        "test_text = range(50)\n",
        "t_loader = batch_data(test_text, sequence_length=5, batch_size=10)\n",
        "\n",
        "data_iter = iter(t_loader)\n",
        "sample_x, sample_y = data_iter.next()\n",
        "\n",
        "print(sample_x.shape)\n",
        "print(sample_x)\n",
        "print()\n",
        "print(sample_y.shape)\n",
        "print(sample_y)"
      ],
      "execution_count": 0,
      "outputs": [
        {
          "output_type": "stream",
          "text": [
            "torch.Size([10, 5])\n",
            "tensor([[42, 43, 44, 45, 46],\n",
            "        [ 2,  3,  4,  5,  6],\n",
            "        [14, 15, 16, 17, 18],\n",
            "        [ 0,  1,  2,  3,  4],\n",
            "        [44, 45, 46, 47, 48],\n",
            "        [41, 42, 43, 44, 45],\n",
            "        [32, 33, 34, 35, 36],\n",
            "        [23, 24, 25, 26, 27],\n",
            "        [21, 22, 23, 24, 25],\n",
            "        [24, 25, 26, 27, 28]])\n",
            "\n",
            "torch.Size([10])\n",
            "tensor([47,  7, 19,  5, 49, 46, 37, 28, 26, 29])\n"
          ],
          "name": "stdout"
        }
      ]
    },
    {
      "metadata": {
        "id": "qD-w239kmtGt",
        "colab_type": "text"
      },
      "cell_type": "markdown",
      "source": [
        "---\n",
        "## Build the Neural Network"
      ]
    },
    {
      "metadata": {
        "id": "IZH2hKAfmtGu",
        "colab_type": "code",
        "outputId": "e6411877-e413-43ed-f668-4eb1cae65f33",
        "colab": {}
      },
      "cell_type": "code",
      "source": [
        "import torch.nn as nn\n",
        "\n",
        "class RNN(nn.Module):\n",
        "    \n",
        "    def __init__(self, vocab_size, output_size, embedding_dim, hidden_dim, n_layers, dropout=0.4):\n",
        "        \"\"\"\n",
        "        Initialize the PyTorch RNN Module\n",
        "        :param vocab_size: The number of input dimensions of the neural network (the size of the vocabulary)\n",
        "        :param output_size: The number of output dimensions of the neural network\n",
        "        :param embedding_dim: The size of embeddings, should you choose to use them        \n",
        "        :param hidden_dim: The size of the hidden layer outputs\n",
        "        :param dropout: dropout to add in between LSTM/GRU layers\n",
        "        \"\"\"\n",
        "        # set class variables\n",
        "        super(RNN, self).__init__()\n",
        "        self.vocab_size = vocab_size\n",
        "        self.output_size = output_size\n",
        "        self.embedding_dim = embedding_dim\n",
        "        self.n_layers = n_layers\n",
        "        self.hidden_dim = hidden_dim\n",
        "        self.dropout = dropout\n",
        "        \n",
        "        \n",
        "         # define model layers\n",
        "        \n",
        "        # embedding and LSTM layers\n",
        "        self.embed = nn.Embedding(vocab_size, embedding_dim)\n",
        "        self.lstm = nn.LSTM(embedding_dim, hidden_dim, n_layers, \n",
        "                            dropout=dropout, batch_first=True)\n",
        "        # dropout layer\n",
        "        self.dropout = nn.Dropout(dropout)\n",
        "        \n",
        "        \n",
        "        # linear and sigmoid layers\n",
        "        self.fc = nn.Linear(hidden_dim, output_size)\n",
        "\n",
        "        \n",
        "        \n",
        "      \n",
        "    \n",
        "    \n",
        "    def forward(self, nn_input, hidden):\n",
        "        \"\"\"\n",
        "        Forward propagation of the neural network\n",
        "        :param nn_input: The input to the neural network\n",
        "        :param hidden: The hidden state        \n",
        "        :return: Two Tensors, the output of the neural network and the latest hidden state\n",
        "        \"\"\"\n",
        "        batch_size = nn_input.size(0)\n",
        "        \n",
        "        # embeddings and lstm_out\n",
        "\n",
        "        embeds = self.embed(nn_input)\n",
        "        lstm_out, hidden = self.lstm(embeds, hidden)\n",
        "        \n",
        "        # stack up lstm outputs\n",
        "        lstm_out = lstm_out.contiguous().view(-1, self.hidden_dim)\n",
        "        \n",
        "        # dropout and fully-connected layer\n",
        "        output = self.dropout(lstm_out)\n",
        "        output = self.fc(output)\n",
        "\n",
        "        \n",
        "        # reshape into (batch_size, seq_length, output_size)\n",
        "        output = output.view(batch_size, -1, self.output_size)\n",
        "        # get last batch \n",
        "        out = output[:, -1]\n",
        "\n",
        "        # return one batch of output word scores and the hidden state\n",
        "        return out, hidden\n",
        "    \n",
        "    \n",
        "    \n",
        "    def init_hidden(self, batch_size):\n",
        "        '''\n",
        "        Initialize the hidden state of an LSTM/GRU\n",
        "        :param batch_size: The batch_size of the hidden state\n",
        "        :return: hidden state of dims (n_layers, batch_size, hidden_dim)\n",
        "        '''\n",
        "        weight = next(self.parameters()).data\n",
        "        # Implement function\n",
        "        \n",
        "        # initialize hidden state with zero weights, and move to GPU if available\n",
        "        if (train_on_gpu):\n",
        "            hidden = (weight.new(self.n_layers, batch_size, self.hidden_dim).zero_().cuda(),\n",
        "                  weight.new(self.n_layers, batch_size, self.hidden_dim).zero_().cuda())\n",
        "        else:\n",
        "            hidden = (weight.new(self.n_layers, batch_size, self.hidden_dim).zero_(),\n",
        "                      weight.new(self.n_layers, batch_size, self.hidden_dim).zero_())\n",
        "        \n",
        "        return hidden\n",
        "\n",
        "\n",
        "tests.test_rnn(RNN, train_on_gpu)"
      ],
      "execution_count": 0,
      "outputs": [
        {
          "output_type": "stream",
          "text": [
            "Tests Passed\n"
          ],
          "name": "stdout"
        }
      ]
    },
    {
      "metadata": {
        "id": "v7ZanPgxmtG0",
        "colab_type": "text"
      },
      "cell_type": "markdown",
      "source": [
        "### Define forward and backpropagation anda move your data to the  GPU device.**"
      ]
    },
    {
      "metadata": {
        "id": "jeFEdkPQmtG1",
        "colab_type": "code",
        "outputId": "83bf90e2-42dc-4ca4-8b47-c911dc443855",
        "colab": {}
      },
      "cell_type": "code",
      "source": [
        "from torch.optim import lr_scheduler\n",
        "def forward_back_prop(rnn, optimizer, criterion, inp, target, hidden):\n",
        "    \"\"\"\n",
        "    Forward and backward propagation on the neural network\n",
        "    :param decoder: The PyTorch Module that holds the neural network\n",
        "    :param decoder_optimizer: The PyTorch optimizer for the neural network\n",
        "    :param criterion: The PyTorch loss function\n",
        "    :param inp: A batch of input to the neural network\n",
        "    :param target: The target output for the batch of input\n",
        "    :return: The loss and the latest hidden state Tensor\n",
        "    \"\"\"\n",
        "    \n",
        "    # move data to GPU, if available\n",
        "    if (train_on_gpu):\n",
        "        inp, target = inp.cuda(), target.cuda()\n",
        "        rnn.cuda()\n",
        "    \n",
        "    # Representing Memory ##\n",
        "    # make a new variable for hidden and detach the hidden state from its history\n",
        "    # this way, we don't backpropagate through the entire history\n",
        "    hidden = tuple([each.data for each in hidden])\n",
        "    # perform backpropagation and optimization  \n",
        "    output, hidden = rnn(inp, hidden)\n",
        "    loss = criterion(output, target)\n",
        "    nn.utils.clip_grad_norm_(rnn.parameters(), 3)\n",
        "    optimizer.zero_grad()\n",
        "    loss.backward()\n",
        "    optimizer.step()\n",
        "   \n",
        "    \n",
        "\n",
        "    # return the loss over a batch and the hidden state produced by our model\n",
        "    return loss.item(), hidden\n",
        "\n",
        "# Note that these tests aren't completely extensive.\n",
        "# they are here to act as general checks on the expected outputs of your functions\n",
        "\n",
        "tests.test_forward_back_prop(RNN, forward_back_prop, train_on_gpu)"
      ],
      "execution_count": 0,
      "outputs": [
        {
          "output_type": "stream",
          "text": [
            "Tests Passed\n"
          ],
          "name": "stdout"
        }
      ]
    },
    {
      "metadata": {
        "id": "1DplIdHimtG6",
        "colab_type": "text"
      },
      "cell_type": "markdown",
      "source": [
        "## Neural Network Training\n"
      ]
    },
    {
      "metadata": {
        "id": "PsfFcjCTmtG8",
        "colab_type": "code",
        "colab": {}
      },
      "cell_type": "code",
      "source": [
        "\n",
        "\n",
        "def train_rnn(rnn, batch_size, optimizer, criterion, n_epochs, show_every_n_batches=100):\n",
        "    batch_losses = []\n",
        "    \n",
        "    rnn.train()\n",
        "\n",
        "    print(\"Training for %d epoch(s)...\" % n_epochs)\n",
        "    for epoch_i in range(1, n_epochs + 1):\n",
        "        \n",
        "        # initialize hidden state\n",
        "        hidden = rnn.init_hidden(batch_size)\n",
        "        \n",
        "        for batch_i, (inputs, labels) in enumerate(train_loader, 1):\n",
        "            \n",
        "            # make sure you iterate over completely full batches, only\n",
        "            n_batches = len(train_loader.dataset)//batch_size\n",
        "            if(batch_i > n_batches):\n",
        "                break\n",
        "            \n",
        "            # forward, back prop\n",
        "            loss, hidden = forward_back_prop(rnn, optimizer, criterion, inputs, labels, hidden)          \n",
        "            # record loss\n",
        "            batch_losses.append(loss)\n",
        "\n",
        "            # printing loss stats\n",
        "            if batch_i % show_every_n_batches == 0:\n",
        "                print('Epoch: {:>4}/{:<4}  Loss: {}\\n'.format(\n",
        "                    epoch_i, n_epochs, np.average(batch_losses)))\n",
        "                batch_losses = []\n",
        "\n",
        "    # returns a trained rnn\n",
        "    return rnn"
      ],
      "execution_count": 0,
      "outputs": []
    },
    {
      "metadata": {
        "id": "SGMGxS8OmtHA",
        "colab_type": "text"
      },
      "cell_type": "markdown",
      "source": [
        "### Hyperparameters\n",
        "The neural network is set to work with the following parameters:\n",
        "- Set `sequence_length` to the length of a sequence.\n",
        "- Set `batch_size` to the batch size.\n",
        "- Set `num_epochs` to the number of epochs to train for.\n",
        "- Set `learning_rate` to the learning rate for an Adam optimizer.\n",
        "- Set `vocab_size` to the number of uniqe tokens in our vocabulary.\n",
        "- Set `output_size` to the desired size of the output.\n",
        "- Set `embedding_dim` to the embedding dimension; smaller than the vocab_size.\n",
        "- Set `hidden_dim` to the hidden dimension of your RNN.\n",
        "- Set `n_layers` to the number of layers/cells in your RNN.\n",
        "- Set `show_every_n_batches` to the number of batches at which the neural network should print progress.\n"
      ]
    },
    {
      "metadata": {
        "id": "xFafpeTSmtHD",
        "colab_type": "code",
        "colab": {}
      },
      "cell_type": "code",
      "source": [
        "# Data params\n",
        "# Sequence Length\n",
        "sequence_length = 40  # of words in a sequence\n",
        "# Batch Size\n",
        "batch_size = 60\n",
        "\n",
        "# data loader - do not change\n",
        "train_loader = batch_data(int_text, sequence_length, batch_size)"
      ],
      "execution_count": 0,
      "outputs": []
    },
    {
      "metadata": {
        "id": "vUyJNDaFmtHG",
        "colab_type": "code",
        "colab": {}
      },
      "cell_type": "code",
      "source": [
        "# Training parameters\n",
        "# Number of Epochs\n",
        "num_epochs = 25\n",
        "# Learning Rate\n",
        "learning_rate = 0.001\n",
        "\n",
        "# Model parameters\n",
        "# Vocab size\n",
        "vocab_size = len(vocab_to_int.keys())\n",
        "# Output size\n",
        "output_size = vocab_size\n",
        "# Embedding Dimension\n",
        "embedding_dim = 400\n",
        "# Hidden Dimension\n",
        "hidden_dim = 700\n",
        "# Number of RNN Layers\n",
        "n_layers = 2\n",
        "\n",
        "# Show stats for every n number of batches\n",
        "show_every_n_batches = 1000"
      ],
      "execution_count": 0,
      "outputs": []
    },
    {
      "metadata": {
        "id": "kCGPBp48oyPS",
        "colab_type": "code",
        "colab": {}
      },
      "cell_type": "code",
      "source": [
        "def load_preprocess():\n",
        "    \"\"\"\n",
        "    Load the Preprocessed Training data and return them in batches of <batch_size> or less\n",
        "    \"\"\"\n",
        "    return pickle.load(open('preprocess.p', mode='rb'))\n",
        "\n",
        "\n",
        "def save_model(filename, decoder):\n",
        "    save_filename = os.path.splitext(os.path.basename(filename))[0] + '.pt'\n",
        "    torch.save(decoder, save_filename)\n",
        "\n",
        "\n",
        "def load_model(filename):\n",
        "    save_filename = os.path.splitext(os.path.basename(filename))[0] + '.pt'\n",
        "    return torch.load(save_filename)"
      ],
      "execution_count": 0,
      "outputs": []
    },
    {
      "metadata": {
        "scrolled": false,
        "id": "NrQutI2umtHK",
        "colab_type": "code",
        "outputId": "72e44674-6929-42f9-e4e7-5b790a0d0b5b",
        "colab": {
          "base_uri": "https://localhost:8080/",
          "height": 3627
        }
      },
      "cell_type": "code",
      "source": [
        "\n",
        "\n",
        "# create model and move to gpu if available\n",
        "rnn = RNN(vocab_size, output_size, embedding_dim, hidden_dim, n_layers, dropout=0.5)\n",
        "if train_on_gpu:\n",
        "    rnn.cuda()\n",
        "\n",
        "# defining loss and optimization functions for training\n",
        "optimizer = torch.optim.Adam(rnn.parameters(), lr=learning_rate)\n",
        "\n",
        "criterion = nn.CrossEntropyLoss()\n",
        "\n",
        "# training the model\n",
        "trained_rnn = train_rnn(rnn, batch_size, optimizer, criterion, num_epochs, show_every_n_batches)\n",
        "\n",
        "# saving the trained model\n",
        "save_model('drive/My Drive/Colab Notebooks/../trained_rnn', trained_rnn)\n",
        "print('Model Trained and Saved')"
      ],
      "execution_count": 0,
      "outputs": [
        {
          "output_type": "stream",
          "text": [
            "Training for 25 epoch(s)...\n",
            "Epoch:    1/25    Loss: 5.252101881742478\n",
            "\n",
            "Epoch:    1/25    Loss: 4.832055360794067\n",
            "\n",
            "Epoch:    1/25    Loss: 4.668700470924377\n",
            "\n",
            "Epoch:    1/25    Loss: 4.586288829326629\n",
            "\n",
            "Epoch:    2/25    Loss: 4.468339825334724\n",
            "\n",
            "Epoch:    2/25    Loss: 4.3520312111377715\n",
            "\n",
            "Epoch:    2/25    Loss: 4.313439683198929\n",
            "\n",
            "Epoch:    2/25    Loss: 4.316178456544876\n",
            "\n",
            "Epoch:    3/25    Loss: 4.2098778218091875\n",
            "\n",
            "Epoch:    3/25    Loss: 4.16459723329544\n",
            "\n",
            "Epoch:    3/25    Loss: 4.155525993347168\n",
            "\n",
            "Epoch:    3/25    Loss: 4.176868861436843\n",
            "\n",
            "Epoch:    4/25    Loss: 4.081175246487366\n",
            "\n",
            "Epoch:    4/25    Loss: 4.045531676769256\n",
            "\n",
            "Epoch:    4/25    Loss: 4.040482199907303\n",
            "\n",
            "Epoch:    4/25    Loss: 4.058029629707336\n",
            "\n",
            "Epoch:    5/25    Loss: 4.0005541735143995\n",
            "\n",
            "Epoch:    5/25    Loss: 3.931645712852478\n",
            "\n",
            "Epoch:    5/25    Loss: 3.9380845232009887\n",
            "\n",
            "Epoch:    5/25    Loss: 3.9749956018924713\n",
            "\n",
            "Epoch:    6/25    Loss: 3.9109233550742606\n",
            "\n",
            "Epoch:    6/25    Loss: 3.875240173101425\n",
            "\n",
            "Epoch:    6/25    Loss: 3.882478922843933\n",
            "\n",
            "Epoch:    6/25    Loss: 3.8970640501976015\n",
            "\n",
            "Epoch:    7/25    Loss: 3.8434508965790637\n",
            "\n",
            "Epoch:    7/25    Loss: 3.808082387447357\n",
            "\n",
            "Epoch:    7/25    Loss: 3.8315521535873414\n",
            "\n",
            "Epoch:    7/25    Loss: 3.8367510051727294\n",
            "\n",
            "Epoch:    8/25    Loss: 3.784322250840123\n",
            "\n",
            "Epoch:    8/25    Loss: 3.7457302503585814\n",
            "\n",
            "Epoch:    8/25    Loss: 3.7609410729408266\n",
            "\n",
            "Epoch:    8/25    Loss: 3.779523929357529\n",
            "\n",
            "Epoch:    9/25    Loss: 3.7404617227172072\n",
            "\n",
            "Epoch:    9/25    Loss: 3.701956016778946\n",
            "\n",
            "Epoch:    9/25    Loss: 3.730351031303406\n",
            "\n",
            "Epoch:    9/25    Loss: 3.7643674988746643\n",
            "\n",
            "Epoch:   10/25    Loss: 3.698259997099699\n",
            "\n",
            "Epoch:   10/25    Loss: 3.6463806114196777\n",
            "\n",
            "Epoch:   10/25    Loss: 3.6965497725009917\n",
            "\n",
            "Epoch:   10/25    Loss: 3.707495952129364\n",
            "\n",
            "Epoch:   11/25    Loss: 3.6394181289312053\n",
            "\n",
            "Epoch:   11/25    Loss: 3.6107160391807556\n",
            "\n",
            "Epoch:   11/25    Loss: 3.649674793958664\n",
            "\n",
            "Epoch:   11/25    Loss: 3.66528812122345\n",
            "\n",
            "Epoch:   12/25    Loss: 3.5986520171409246\n",
            "\n",
            "Epoch:   12/25    Loss: 3.5921286001205446\n",
            "\n",
            "Epoch:   12/25    Loss: 3.599245593547821\n",
            "\n",
            "Epoch:   12/25    Loss: 3.630106990098953\n",
            "\n",
            "Epoch:   13/25    Loss: 3.5808279182769525\n",
            "\n",
            "Epoch:   13/25    Loss: 3.555567175388336\n",
            "\n",
            "Epoch:   13/25    Loss: 3.5869906940460203\n",
            "\n",
            "Epoch:   13/25    Loss: 3.5957936503887176\n",
            "\n",
            "Epoch:   14/25    Loss: 3.542485773563385\n",
            "\n",
            "Epoch:   14/25    Loss: 3.5184664640426635\n",
            "\n",
            "Epoch:   14/25    Loss: 3.5313106870651243\n",
            "\n",
            "Epoch:   14/25    Loss: 3.5619731800556185\n",
            "\n",
            "Epoch:   15/25    Loss: 3.4999904758115976\n",
            "\n",
            "Epoch:   15/25    Loss: 3.467174821138382\n",
            "\n",
            "Epoch:   15/25    Loss: 3.5112014563083647\n",
            "\n",
            "Epoch:   15/25    Loss: 3.5545070152282716\n",
            "\n",
            "Epoch:   16/25    Loss: 3.492388398125615\n",
            "\n",
            "Epoch:   16/25    Loss: 3.4346983304023744\n",
            "\n",
            "Epoch:   16/25    Loss: 3.470983894586563\n",
            "\n",
            "Epoch:   16/25    Loss: 3.5258193037509917\n",
            "\n",
            "Epoch:   17/25    Loss: 3.4695802849007045\n",
            "\n",
            "Epoch:   17/25    Loss: 3.4375367670059203\n",
            "\n",
            "Epoch:   17/25    Loss: 3.468553547620773\n",
            "\n",
            "Epoch:   17/25    Loss: 3.476525627374649\n",
            "\n",
            "Epoch:   18/25    Loss: 3.4432110419546413\n",
            "\n",
            "Epoch:   18/25    Loss: 3.3959419536590576\n",
            "\n",
            "Epoch:   18/25    Loss: 3.433094406366348\n",
            "\n",
            "Epoch:   18/25    Loss: 3.4574180841445923\n",
            "\n",
            "Epoch:   19/25    Loss: 3.4122749317155536\n",
            "\n",
            "Epoch:   19/25    Loss: 3.3795261874198914\n",
            "\n",
            "Epoch:   19/25    Loss: 3.4265676636695863\n",
            "\n",
            "Epoch:   19/25    Loss: 3.4410036606788634\n",
            "\n",
            "Epoch:   20/25    Loss: 3.388115605937435\n",
            "\n",
            "Epoch:   20/25    Loss: 3.355806962251663\n",
            "\n",
            "Epoch:   20/25    Loss: 3.393762506723404\n",
            "\n",
            "Epoch:   20/25    Loss: 3.4153799014091493\n",
            "\n",
            "Epoch:   21/25    Loss: 3.362921137934082\n",
            "\n",
            "Epoch:   21/25    Loss: 3.3390622894763946\n",
            "\n",
            "Epoch:   21/25    Loss: 3.366024753808975\n",
            "\n",
            "Epoch:   21/25    Loss: 3.406538431882858\n",
            "\n",
            "Epoch:   22/25    Loss: 3.361651695457217\n",
            "\n",
            "Epoch:   22/25    Loss: 3.3304678022861482\n",
            "\n",
            "Epoch:   22/25    Loss: 3.358622614145279\n",
            "\n",
            "Epoch:   22/25    Loss: 3.3511891005039214\n",
            "\n",
            "Epoch:   23/25    Loss: 3.332794141062442\n",
            "\n",
            "Epoch:   23/25    Loss: 3.293254821538925\n",
            "\n",
            "Epoch:   23/25    Loss: 3.3349041225910185\n",
            "\n",
            "Epoch:   23/25    Loss: 3.365692101955414\n",
            "\n",
            "Epoch:   24/25    Loss: 3.302274562342279\n",
            "\n",
            "Epoch:   24/25    Loss: 3.274492943763733\n",
            "\n",
            "Epoch:   24/25    Loss: 3.319123275756836\n",
            "\n",
            "Epoch:   24/25    Loss: 3.356005425453186\n",
            "\n",
            "Epoch:   25/25    Loss: 3.31008549823839\n",
            "\n",
            "Epoch:   25/25    Loss: 3.2550782086849215\n",
            "\n",
            "Epoch:   25/25    Loss: 3.2890523393154143\n",
            "\n",
            "Epoch:   25/25    Loss: 3.3113281228542326\n",
            "\n"
          ],
          "name": "stdout"
        },
        {
          "output_type": "stream",
          "text": [
            "/usr/local/lib/python3.6/dist-packages/torch/serialization.py:251: UserWarning: Couldn't retrieve source code for container of type RNN. It won't be checked for correctness upon loading.\n",
            "  \"type \" + obj.__name__ + \". It won't be checked \"\n"
          ],
          "name": "stderr"
        },
        {
          "output_type": "stream",
          "text": [
            "Model Trained and Saved\n"
          ],
          "name": "stdout"
        }
      ]
    },
    {
      "metadata": {
        "id": "ku60qmZhmtHP",
        "colab_type": "text"
      },
      "cell_type": "markdown",
      "source": [
        "---\n",
        "# Checkpoint\n",
        "\n",
        "Saving the model as `trained_rnn`, resume by running the next cell, which will load in our word:id dictionaries _and_ load in your saved model by name!"
      ]
    },
    {
      "metadata": {
        "id": "uRn5ff6vhOuq",
        "colab_type": "code",
        "colab": {}
      },
      "cell_type": "code",
      "source": [
        "\n",
        "import torch\n",
        "import helper\n",
        "import problem_unittests as tests\n",
        "\n",
        "_, vocab_to_int, int_to_vocab, token_dict = helper.load_preprocess()\n",
        "trained_rnn = helper.load_model('./save/trained_rnn')\n"
      ],
      "execution_count": 0,
      "outputs": []
    },
    {
      "metadata": {
        "id": "T8Oc0a1ohWYq",
        "colab_type": "code",
        "colab": {}
      },
      "cell_type": "code",
      "source": [
        "trained_rnn.to(\"cpu\")\n",
        "train_on_gpu = False"
      ],
      "execution_count": 0,
      "outputs": []
    },
    {
      "metadata": {
        "id": "2mWvFDQ1mtHS",
        "colab_type": "text"
      },
      "cell_type": "markdown",
      "source": [
        "## Generate TV Script\n",
        "With the network trained and saved, generate a new, \"fake\" Seinfeld TV script in this section.\n",
        "\n",
        "### Generate Text function\n",
        "To generate the text, the network needs to start with a single word and repeat its predictions until it reaches a set length. "
      ]
    },
    {
      "metadata": {
        "id": "yQWHPkmymtHT",
        "colab_type": "code",
        "colab": {}
      },
      "cell_type": "code",
      "source": [
        "#project given function\n",
        "\n",
        "import torch.nn.functional as F\n",
        "\n",
        "def generate(rnn, prime_id, int_to_vocab, token_dict, pad_value, predict_len=100):\n",
        "    \"\"\"\n",
        "    Generate text using the neural network\n",
        "    :param decoder: The PyTorch Module that holds the trained neural network\n",
        "    :param prime_id: The word id to start the first prediction\n",
        "    :param int_to_vocab: Dict of word id keys to word values\n",
        "    :param token_dict: Dict of puncuation tokens keys to puncuation values\n",
        "    :param pad_value: The value used to pad a sequence\n",
        "    :param predict_len: The length of text to generate\n",
        "    :return: The generated text\n",
        "    \"\"\"\n",
        "    rnn.eval()\n",
        "    \n",
        "    # create a sequence (batch_size=1) with the prime_id\n",
        "    current_seq = np.full((1, sequence_length), pad_value)\n",
        "    current_seq[-1][-1] = prime_id\n",
        "    predicted = [int_to_vocab[prime_id]]\n",
        "    \n",
        "    for _ in range(predict_len):\n",
        "        if train_on_gpu:\n",
        "            current_seq = torch.LongTensor(current_seq).cuda()\n",
        "        else:\n",
        "            current_seq = torch.LongTensor(current_seq)\n",
        "        \n",
        "        # initialize the hidden state\n",
        "        hidden = rnn.init_hidden(current_seq.size(0))\n",
        "        \n",
        "        # get the output of the rnn\n",
        "        output, _ = rnn(current_seq, hidden)\n",
        "        \n",
        "        # get the next word probabilities\n",
        "        p = F.softmax(output, dim=1).data\n",
        "        if(train_on_gpu):\n",
        "            p = p.cpu() # move to cpu\n",
        "         \n",
        "        # use top_k sampling to get the index of the next word\n",
        "        top_k = 5\n",
        "        p, top_i = p.topk(top_k)\n",
        "        top_i = top_i.numpy().squeeze()\n",
        "        \n",
        "        # select the likely next word index with some element of randomness\n",
        "        p = p.numpy().squeeze()\n",
        "        word_i = np.random.choice(top_i, p=p/p.sum())\n",
        "        \n",
        "        # retrieve that word from the dictionary\n",
        "        word = int_to_vocab[word_i]\n",
        "        predicted.append(word)     \n",
        "        \n",
        "        # the generated word becomes the next \"current sequence\" and the cycle can continue\n",
        "        current_seq = np.roll(current_seq, -1, 1)\n",
        "        current_seq[-1][-1] = word_i\n",
        "    \n",
        "    gen_sentences = ' '.join(predicted)\n",
        "    \n",
        "    # Replace punctuation tokens\n",
        "    for key, token in token_dict.items():\n",
        "        ending = ' ' if key in ['\\n', '(', '\"'] else ''\n",
        "        gen_sentences = gen_sentences.replace(' ' + token.lower(), key)\n",
        "    gen_sentences = gen_sentences.replace('\\n ', '\\n')\n",
        "    gen_sentences = gen_sentences.replace('( ', '(')\n",
        "    \n",
        "    # return all the sentences\n",
        "    return gen_sentences"
      ],
      "execution_count": 0,
      "outputs": []
    },
    {
      "metadata": {
        "id": "pEjXu49AmtHV",
        "colab_type": "text"
      },
      "cell_type": "markdown",
      "source": [
        "### Generate a New Script\n"
      ]
    },
    {
      "metadata": {
        "id": "xv39X-SYGZIL",
        "colab_type": "code",
        "outputId": "e0a78e5d-ad1a-4739-ada8-37a6f9581bc4",
        "colab": {
          "base_uri": "https://localhost:8080/",
          "height": 934
        }
      },
      "cell_type": "code",
      "source": [
        "# run the cell multiple times to get different results!\n",
        "gen_length = 400 # modify the length to your preference\n",
        "prime_word = 'jerry' # name for starting the script\n",
        "\n",
        "\"\"\"\n",
        "DON'T MODIFY ANYTHING IN THIS CELL THAT IS BELOW THIS LINE\n",
        "\"\"\"\n",
        "pad_word = helper.SPECIAL_WORDS['PADDING']\n",
        "generated_script = generate(trained_rnn, vocab_to_int[prime_word + ':'], int_to_vocab, token_dict, vocab_to_int[pad_word], gen_length)\n",
        "print(generated_script)"
      ],
      "execution_count": 0,
      "outputs": [
        {
          "output_type": "stream",
          "text": [
            "jerry:\n",
            "\n",
            "jerry: well, i think i don't have to be able to do that.(walks over to the phone with his hands, and knocks them to leave)...\n",
            "\n",
            "kramer: oh, i can't believe you, you know the ones that means that the thing was that the best thing that i am, and then the only way to be a lot of money, but i don't want it to get out of the office. you can't be able to see him again.\n",
            "\n",
            "elaine: oh, i don't know.\n",
            "\n",
            "kramer: well, i'm gonna get a lot of a bad impression.\n",
            "\n",
            "elaine: i can't believe this.\n",
            "\n",
            "jerry: what do you mean?\n",
            "\n",
            "george: yeah, but you don't know what happened in the world. i can't believe it.\n",
            "\n",
            "jerry: well, i'm going to the tony's.\n",
            "\n",
            "kramer:(to jerry, upset) i don't know.\n",
            "\n",
            "jerry: oh, yeah.\n",
            "\n",
            "elaine:(looking at jerry) you have a message?\n",
            "\n",
            "jerry: i know i was thinking about the other night, i was a little bit higher.\n",
            "\n",
            "jerry: yeah, well i don't know.\n",
            "\n",
            "george: what?(kramer enters)\n",
            "\n",
            "jerry: hey.\n",
            "\n",
            "newman: what are you looking at me?\n",
            "\n",
            "kramer: oh, yeah, yeah. i don't know, i just came back.\n",
            "\n",
            "jerry:(to himself) i think i don't want to be a good idea. i mean, i think you can get a little hungry.\n",
            "\n",
            "jerry: what is it?\n",
            "\n",
            "kramer: i know what you think?\n",
            "\n",
            "jerry: i got a problem for you, you know, i'm going to the movies and he was able to get the whole time and i was a good one.\n",
            "\n",
            "elaine: oh, well, what is it?\n",
            "\n",
            "elaine: oh, i know, i just want a little nervous i got a couple of ice.\n",
            "\n",
            "elaine:(still laughing) i know...\n",
            "\n",
            "george:\n"
          ],
          "name": "stdout"
        }
      ]
    },
    {
      "metadata": {
        "id": "7lMBUvzgmtHb",
        "colab_type": "text"
      },
      "cell_type": "markdown",
      "source": [
        "#### Save the script\n",
        "\n",
        "Once you have a script that you like (or find interesting), save it to a text file!"
      ]
    },
    {
      "metadata": {
        "id": "y0lDpCivmtHc",
        "colab_type": "code",
        "colab": {}
      },
      "cell_type": "code",
      "source": [
        "# save script to a text file\n",
        "f =  open(\"drive/My Drive/Colab Notebooks/../generated_script_1.txt\",\"w\")\n",
        "f.write(generated_script)\n",
        "f.close()"
      ],
      "execution_count": 0,
      "outputs": []
    },
    {
      "metadata": {
        "id": "V27eJ2YnNaHK",
        "colab_type": "text"
      },
      "cell_type": "markdown",
      "source": [
        "**Experience and skills developed with this project**\n",
        "\n",
        "This project has been a great resource to study the working of RNN in great detail. The generation of text is not a simple task!\n",
        "Skills I have delevoped:\n",
        "\n",
        "- NLP skills: create dictionary, encode text and create embedings layers\n",
        "- Deep learning: build and apply an RNN for text generation, create batches and embedding layers, understand LSTM and GRU structure\n",
        "- Course knowledge: RNNs, LSTMs, Attention model in Sequence to sequence models "
      ]
    }
  ]
}