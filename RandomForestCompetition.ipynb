{
 "cells": [
  {
   "cell_type": "markdown",
   "metadata": {},
   "source": [
    "# Intro to Random Forests applied to Kaggle competition: Forest Cover Type\n",
    "\n",
    "In this notebook I will apply the Random Forests and what I learned in the Fast.ai lesson 1 and 2 to the competition"
   ]
  },
  {
   "cell_type": "markdown",
   "metadata": {},
   "source": [
    "## Imports"
   ]
  },
  {
   "cell_type": "code",
   "execution_count": 1,
   "metadata": {},
   "outputs": [],
   "source": [
    "%load_ext autoreload\n",
    "%autoreload 2\n",
    "\n",
    "%matplotlib inline"
   ]
  },
  {
   "cell_type": "code",
   "execution_count": 2,
   "metadata": {},
   "outputs": [],
   "source": [
    "import sklearn"
   ]
  },
  {
   "cell_type": "code",
   "execution_count": null,
   "metadata": {},
   "outputs": [],
   "source": [
    "#!pip3 install sklearn_pandas"
   ]
  },
  {
   "cell_type": "code",
   "execution_count": null,
   "metadata": {},
   "outputs": [],
   "source": [
    "#!pip3 install pandas_summary"
   ]
  },
  {
   "cell_type": "code",
   "execution_count": 1,
   "metadata": {},
   "outputs": [
    {
     "name": "stderr",
     "output_type": "stream",
     "text": [
      "C:\\Users\\France\\Anaconda3\\lib\\site-packages\\sklearn\\ensemble\\weight_boosting.py:29: DeprecationWarning: numpy.core.umath_tests is an internal NumPy module and should not be imported. It will be removed in a future NumPy release.\n",
      "  from numpy.core.umath_tests import inner1d\n"
     ]
    }
   ],
   "source": [
    "from fastai.imports import *\n",
    "from fastai.structured import *"
   ]
  },
  {
   "cell_type": "code",
   "execution_count": 2,
   "metadata": {},
   "outputs": [],
   "source": [
    "from pandas_summary import DataFrameSummary\n",
    "from sklearn.ensemble import RandomForestRegressor, RandomForestClassifier\n",
    "from IPython.display import display\n",
    "\n",
    "from sklearn import metrics"
   ]
  },
  {
   "cell_type": "code",
   "execution_count": 3,
   "metadata": {},
   "outputs": [],
   "source": [
    "PATH = \"../../data/forests/\""
   ]
  },
  {
   "cell_type": "markdown",
   "metadata": {},
   "source": [
    "## The data"
   ]
  },
  {
   "cell_type": "markdown",
   "metadata": {},
   "source": [
    "### Look at the data"
   ]
  },
  {
   "cell_type": "markdown",
   "metadata": {},
   "source": [
    "For this competition, you are predicting an integer classification for the forest cover type.\n",
    "The seven types are:\n",
    "\n",
    "1 - Spruce/Fir\n",
    "2 - Lodgepole Pine\n",
    "3 - Ponderosa Pine\n",
    "4 - Cottonwood/Willow\n",
    "5 - Aspen\n",
    "6 - Douglas-fir\n",
    "7 - Krummholz\n",
    "\n",
    "The training set (15120 observations) contains both features and the Cover_Type. The test set contains only the features. You must predict the Cover_Type for every row in the test set (565892 observations).\n",
    "\n",
    "Submissions are evaluated on multi-class classification accuracy.\n",
    "\n",
    "The files are:\n",
    "- test.csv test file\n",
    "- train.csv train file\n",
    "\n",
    "Evaluation:\n",
    "Submissions are evaluated on multi-class classification accuracy."
   ]
  },
  {
   "cell_type": "markdown",
   "metadata": {},
   "source": [
    "Reading the training set"
   ]
  },
  {
   "cell_type": "code",
   "execution_count": 5,
   "metadata": {},
   "outputs": [],
   "source": [
    "df_raw = pd.read_csv(f'{PATH}train.csv', low_memory=False)\n",
    "#parse dates transforms the saledates into a date format object, it is a panda function"
   ]
  },
  {
   "cell_type": "code",
   "execution_count": 7,
   "metadata": {},
   "outputs": [
    {
     "data": {
      "text/html": [
       "<div>\n",
       "<style scoped>\n",
       "    .dataframe tbody tr th:only-of-type {\n",
       "        vertical-align: middle;\n",
       "    }\n",
       "\n",
       "    .dataframe tbody tr th {\n",
       "        vertical-align: top;\n",
       "    }\n",
       "\n",
       "    .dataframe thead th {\n",
       "        text-align: right;\n",
       "    }\n",
       "</style>\n",
       "<table border=\"1\" class=\"dataframe\">\n",
       "  <thead>\n",
       "    <tr style=\"text-align: right;\">\n",
       "      <th></th>\n",
       "      <th>Id</th>\n",
       "      <th>Elevation</th>\n",
       "      <th>Aspect</th>\n",
       "      <th>Slope</th>\n",
       "      <th>Horizontal_Distance_To_Hydrology</th>\n",
       "      <th>Vertical_Distance_To_Hydrology</th>\n",
       "      <th>Horizontal_Distance_To_Roadways</th>\n",
       "      <th>Hillshade_9am</th>\n",
       "      <th>Hillshade_Noon</th>\n",
       "      <th>Hillshade_3pm</th>\n",
       "      <th>...</th>\n",
       "      <th>Soil_Type32</th>\n",
       "      <th>Soil_Type33</th>\n",
       "      <th>Soil_Type34</th>\n",
       "      <th>Soil_Type35</th>\n",
       "      <th>Soil_Type36</th>\n",
       "      <th>Soil_Type37</th>\n",
       "      <th>Soil_Type38</th>\n",
       "      <th>Soil_Type39</th>\n",
       "      <th>Soil_Type40</th>\n",
       "      <th>Cover_Type</th>\n",
       "    </tr>\n",
       "  </thead>\n",
       "  <tbody>\n",
       "    <tr>\n",
       "      <th>0</th>\n",
       "      <td>1</td>\n",
       "      <td>2596</td>\n",
       "      <td>51</td>\n",
       "      <td>3</td>\n",
       "      <td>258</td>\n",
       "      <td>0</td>\n",
       "      <td>510</td>\n",
       "      <td>221</td>\n",
       "      <td>232</td>\n",
       "      <td>148</td>\n",
       "      <td>...</td>\n",
       "      <td>0</td>\n",
       "      <td>0</td>\n",
       "      <td>0</td>\n",
       "      <td>0</td>\n",
       "      <td>0</td>\n",
       "      <td>0</td>\n",
       "      <td>0</td>\n",
       "      <td>0</td>\n",
       "      <td>0</td>\n",
       "      <td>5</td>\n",
       "    </tr>\n",
       "    <tr>\n",
       "      <th>1</th>\n",
       "      <td>2</td>\n",
       "      <td>2590</td>\n",
       "      <td>56</td>\n",
       "      <td>2</td>\n",
       "      <td>212</td>\n",
       "      <td>-6</td>\n",
       "      <td>390</td>\n",
       "      <td>220</td>\n",
       "      <td>235</td>\n",
       "      <td>151</td>\n",
       "      <td>...</td>\n",
       "      <td>0</td>\n",
       "      <td>0</td>\n",
       "      <td>0</td>\n",
       "      <td>0</td>\n",
       "      <td>0</td>\n",
       "      <td>0</td>\n",
       "      <td>0</td>\n",
       "      <td>0</td>\n",
       "      <td>0</td>\n",
       "      <td>5</td>\n",
       "    </tr>\n",
       "    <tr>\n",
       "      <th>2</th>\n",
       "      <td>3</td>\n",
       "      <td>2804</td>\n",
       "      <td>139</td>\n",
       "      <td>9</td>\n",
       "      <td>268</td>\n",
       "      <td>65</td>\n",
       "      <td>3180</td>\n",
       "      <td>234</td>\n",
       "      <td>238</td>\n",
       "      <td>135</td>\n",
       "      <td>...</td>\n",
       "      <td>0</td>\n",
       "      <td>0</td>\n",
       "      <td>0</td>\n",
       "      <td>0</td>\n",
       "      <td>0</td>\n",
       "      <td>0</td>\n",
       "      <td>0</td>\n",
       "      <td>0</td>\n",
       "      <td>0</td>\n",
       "      <td>2</td>\n",
       "    </tr>\n",
       "    <tr>\n",
       "      <th>3</th>\n",
       "      <td>4</td>\n",
       "      <td>2785</td>\n",
       "      <td>155</td>\n",
       "      <td>18</td>\n",
       "      <td>242</td>\n",
       "      <td>118</td>\n",
       "      <td>3090</td>\n",
       "      <td>238</td>\n",
       "      <td>238</td>\n",
       "      <td>122</td>\n",
       "      <td>...</td>\n",
       "      <td>0</td>\n",
       "      <td>0</td>\n",
       "      <td>0</td>\n",
       "      <td>0</td>\n",
       "      <td>0</td>\n",
       "      <td>0</td>\n",
       "      <td>0</td>\n",
       "      <td>0</td>\n",
       "      <td>0</td>\n",
       "      <td>2</td>\n",
       "    </tr>\n",
       "    <tr>\n",
       "      <th>4</th>\n",
       "      <td>5</td>\n",
       "      <td>2595</td>\n",
       "      <td>45</td>\n",
       "      <td>2</td>\n",
       "      <td>153</td>\n",
       "      <td>-1</td>\n",
       "      <td>391</td>\n",
       "      <td>220</td>\n",
       "      <td>234</td>\n",
       "      <td>150</td>\n",
       "      <td>...</td>\n",
       "      <td>0</td>\n",
       "      <td>0</td>\n",
       "      <td>0</td>\n",
       "      <td>0</td>\n",
       "      <td>0</td>\n",
       "      <td>0</td>\n",
       "      <td>0</td>\n",
       "      <td>0</td>\n",
       "      <td>0</td>\n",
       "      <td>5</td>\n",
       "    </tr>\n",
       "  </tbody>\n",
       "</table>\n",
       "<p>5 rows × 56 columns</p>\n",
       "</div>"
      ],
      "text/plain": [
       "   Id  Elevation  Aspect  Slope  Horizontal_Distance_To_Hydrology  \\\n",
       "0   1       2596      51      3                               258   \n",
       "1   2       2590      56      2                               212   \n",
       "2   3       2804     139      9                               268   \n",
       "3   4       2785     155     18                               242   \n",
       "4   5       2595      45      2                               153   \n",
       "\n",
       "   Vertical_Distance_To_Hydrology  Horizontal_Distance_To_Roadways  \\\n",
       "0                               0                              510   \n",
       "1                              -6                              390   \n",
       "2                              65                             3180   \n",
       "3                             118                             3090   \n",
       "4                              -1                              391   \n",
       "\n",
       "   Hillshade_9am  Hillshade_Noon  Hillshade_3pm     ...      Soil_Type32  \\\n",
       "0            221             232            148     ...                0   \n",
       "1            220             235            151     ...                0   \n",
       "2            234             238            135     ...                0   \n",
       "3            238             238            122     ...                0   \n",
       "4            220             234            150     ...                0   \n",
       "\n",
       "   Soil_Type33  Soil_Type34  Soil_Type35  Soil_Type36  Soil_Type37  \\\n",
       "0            0            0            0            0            0   \n",
       "1            0            0            0            0            0   \n",
       "2            0            0            0            0            0   \n",
       "3            0            0            0            0            0   \n",
       "4            0            0            0            0            0   \n",
       "\n",
       "   Soil_Type38  Soil_Type39  Soil_Type40  Cover_Type  \n",
       "0            0            0            0           5  \n",
       "1            0            0            0           5  \n",
       "2            0            0            0           2  \n",
       "3            0            0            0           2  \n",
       "4            0            0            0           5  \n",
       "\n",
       "[5 rows x 56 columns]"
      ]
     },
     "execution_count": 7,
     "metadata": {},
     "output_type": "execute_result"
    }
   ],
   "source": [
    "df_raw.head()"
   ]
  },
  {
   "cell_type": "markdown",
   "metadata": {},
   "source": [
    "In any sort of data science work, it's **important to look at your data**, to make sure you understand the format, how it's stored, what type of values it holds, etc. Even if you've read descriptions about your data, the actual data may not be what you expect."
   ]
  },
  {
   "cell_type": "code",
   "execution_count": 11,
   "metadata": {},
   "outputs": [],
   "source": [
    "def display_all(df):\n",
    "    with pd.option_context(\"display.max_rows\", 1000, \"display.max_columns\", 1000): \n",
    "        display(df)"
   ]
  },
  {
   "cell_type": "code",
   "execution_count": null,
   "metadata": {},
   "outputs": [],
   "source": [
    "display_all(df_raw.tail().T)"
   ]
  },
  {
   "cell_type": "code",
   "execution_count": null,
   "metadata": {},
   "outputs": [],
   "source": [
    "display_all(df_raw.describe(include='all').T)"
   ]
  },
  {
   "cell_type": "code",
   "execution_count": 14,
   "metadata": {},
   "outputs": [
    {
     "data": {
      "text/plain": [
       "(15120, 56)"
      ]
     },
     "execution_count": 14,
     "metadata": {},
     "output_type": "execute_result"
    }
   ],
   "source": [
    "df_raw.shape"
   ]
  },
  {
   "cell_type": "code",
   "execution_count": 15,
   "metadata": {},
   "outputs": [
    {
     "data": {
      "text/plain": [
       "Index(['Id', 'Elevation', 'Aspect', 'Slope',\n",
       "       'Horizontal_Distance_To_Hydrology', 'Vertical_Distance_To_Hydrology',\n",
       "       'Horizontal_Distance_To_Roadways', 'Hillshade_9am', 'Hillshade_Noon',\n",
       "       'Hillshade_3pm', 'Horizontal_Distance_To_Fire_Points',\n",
       "       'Wilderness_Area1', 'Wilderness_Area2', 'Wilderness_Area3',\n",
       "       'Wilderness_Area4', 'Soil_Type1', 'Soil_Type2', 'Soil_Type3',\n",
       "       'Soil_Type4', 'Soil_Type5', 'Soil_Type6', 'Soil_Type7', 'Soil_Type8',\n",
       "       'Soil_Type9', 'Soil_Type10', 'Soil_Type11', 'Soil_Type12',\n",
       "       'Soil_Type13', 'Soil_Type14', 'Soil_Type15', 'Soil_Type16',\n",
       "       'Soil_Type17', 'Soil_Type18', 'Soil_Type19', 'Soil_Type20',\n",
       "       'Soil_Type21', 'Soil_Type22', 'Soil_Type23', 'Soil_Type24',\n",
       "       'Soil_Type25', 'Soil_Type26', 'Soil_Type27', 'Soil_Type28',\n",
       "       'Soil_Type29', 'Soil_Type30', 'Soil_Type31', 'Soil_Type32',\n",
       "       'Soil_Type33', 'Soil_Type34', 'Soil_Type35', 'Soil_Type36',\n",
       "       'Soil_Type37', 'Soil_Type38', 'Soil_Type39', 'Soil_Type40',\n",
       "       'Cover_Type'],\n",
       "      dtype='object')"
      ]
     },
     "execution_count": 15,
     "metadata": {},
     "output_type": "execute_result"
    }
   ],
   "source": [
    "df_raw.columns"
   ]
  },
  {
   "cell_type": "markdown",
   "metadata": {},
   "source": [
    "# The steps\n",
    "I am following the steps suggested in the course fast.ai.\n",
    "1. create a dataframe without the dependent variable an convert it to array \n",
    "2. create an array of lables of the categories\n",
    "3. split the set into train and validation\n",
    "\n",
    "This can be done mannually as below or using the function proc_df which does it automatically for you, just need to pass the dependent variable name.\n",
    "\n",
    "Other useful methods:\n",
    "train_cats(df) to converts strings into pandas categories. Creates a number and store a mapping of it. Because we do not have strings, this does not apply.\n",
    "\n",
    "\n"
   ]
  },
  {
   "cell_type": "code",
   "execution_count": 16,
   "metadata": {},
   "outputs": [],
   "source": [
    "feature_list = list(df_raw.columns)"
   ]
  },
  {
   "cell_type": "code",
   "execution_count": 17,
   "metadata": {},
   "outputs": [],
   "source": []
  },
  {
   "cell_type": "code",
   "execution_count": 18,
   "metadata": {},
   "outputs": [
    {
     "data": {
      "text/plain": [
       "array([5, 5, 2, ..., 3, 3, 3], dtype=int64)"
      ]
     },
     "execution_count": 18,
     "metadata": {},
     "output_type": "execute_result"
    }
   ],
   "source": [
    "labels"
   ]
  },
  {
   "cell_type": "code",
   "execution_count": 19,
   "metadata": {},
   "outputs": [
    {
     "data": {
      "text/plain": [
       "array([[    1,  2596,    51, ...,     0,     0,     5],\n",
       "       [    2,  2590,    56, ...,     0,     0,     5],\n",
       "       [    3,  2804,   139, ...,     0,     0,     2],\n",
       "       ...,\n",
       "       [15118,  2492,   134, ...,     0,     0,     3],\n",
       "       [15119,  2487,   167, ...,     0,     0,     3],\n",
       "       [15120,  2475,   197, ...,     0,     0,     3]], dtype=int64)"
      ]
     },
     "execution_count": 19,
     "metadata": {},
     "output_type": "execute_result"
    }
   ],
   "source": [
    "features"
   ]
  },
  {
   "cell_type": "markdown",
   "metadata": {},
   "source": [
    "## Creating arrays for lables and dataset"
   ]
  },
  {
   "cell_type": "code",
   "execution_count": 6,
   "metadata": {},
   "outputs": [],
   "source": [
    "#We will replace categories with their numeric codes, handle missing continuous values, \n",
    "#and split the dependent variable into a separate variable.\n",
    "df_trn, y_trn, nas=proc_df(df_raw, 'Cover_Type') #dataframe, labels and empty"
   ]
  },
  {
   "cell_type": "code",
   "execution_count": 7,
   "metadata": {},
   "outputs": [
    {
     "data": {
      "text/plain": [
       "15120"
      ]
     },
     "execution_count": 7,
     "metadata": {},
     "output_type": "execute_result"
    }
   ],
   "source": [
    "len(df_trn)"
   ]
  },
  {
   "cell_type": "markdown",
   "metadata": {},
   "source": [
    "## Splitting values and training on a subset"
   ]
  },
  {
   "cell_type": "code",
   "execution_count": 8,
   "metadata": {},
   "outputs": [],
   "source": [
    "def split_vals(a,n): return a[:n], a[n:]\n",
    "\n",
    "\n",
    "\n",
    "def print_score(m):\n",
    "    # Use the forest's predict method on the test data\n",
    "    predictions = m.predict(X_valid)\n",
    "    # Calculate the absolute errors\n",
    "    errors = abs(predictions - y_valid)\n",
    "# Print out the mean absolute error (mae)\n",
    "    print(predictions)\n",
    "    print(errors)\n",
    "    print('Mean Absolute Error:', round(np.mean(errors), 2), 'degrees.')\n",
    "    # Calculate mean absolute percentage error (MAPE)\n",
    "    mape = 100 * (errors / y_valid)\n",
    "    # Calculate and display accuracy\n",
    "    accuracy = 100 - np.mean(mape)\n",
    "    print('Accuracy:', round(accuracy, 2), '%.')\n",
    "    res = [m.predict(X_train), y_train, m.predict(X_valid), y_valid,\n",
    "                m.score(X_train, y_train), m.score(X_valid, y_valid)]\n",
    "    \n",
    "    if hasattr(m, 'oob_score_'): \n",
    "        res.append(m.oob_score_)\n",
    "        print('oob score is ', m.oob_score_)\n",
    "   # print(res)"
   ]
  },
  {
   "cell_type": "code",
   "execution_count": 176,
   "metadata": {},
   "outputs": [],
   "source": [
    "#creating a subset and splitting it\n",
    "df_trn, y_trn, nas = proc_df(df_raw, 'Cover_Type', subset= 10000)\n",
    "X_train, _ = split_vals(df_trn, 5000) #resampling the training set of 20.000 out of 30.000\n",
    "y_train, _ = split_vals(y_trn, 5000)"
   ]
  },
  {
   "cell_type": "code",
   "execution_count": null,
   "metadata": {},
   "outputs": [],
   "source": []
  },
  {
   "cell_type": "code",
   "execution_count": 150,
   "metadata": {},
   "outputs": [
    {
     "data": {
      "text/plain": [
       "array([5, 5, 2, ..., 3, 3, 3], dtype=int64)"
      ]
     },
     "execution_count": 150,
     "metadata": {},
     "output_type": "execute_result"
    }
   ],
   "source": [
    "y_trn #the labels"
   ]
  },
  {
   "cell_type": "code",
   "execution_count": 97,
   "metadata": {},
   "outputs": [
    {
     "name": "stderr",
     "output_type": "stream",
     "text": [
      "C:\\Users\\France\\Anaconda3\\lib\\site-packages\\sklearn\\ensemble\\forest.py:453: UserWarning: Some inputs do not have OOB scores. This probably means too few trees were used to compute any reliable oob estimates.\n",
      "  warn(\"Some inputs do not have OOB scores. \"\n",
      "C:\\Users\\France\\Anaconda3\\lib\\site-packages\\sklearn\\ensemble\\forest.py:458: RuntimeWarning: invalid value encountered in true_divide\n",
      "  predictions[k].sum(axis=1)[:, np.newaxis])\n"
     ]
    },
    {
     "name": "stdout",
     "output_type": "stream",
     "text": [
      "Wall time: 133 ms\n",
      "[6 5 7 ... 5 5 5]\n",
      "[0 2 6 ... 0 4 3]\n",
      "Mean Absolute Error: 1.77 degrees.\n",
      "0.2298\n"
     ]
    }
   ],
   "source": [
    "#n_estimators are the trees, maxdepth bootstrap=False set out some randomizing\n",
    "# a tree is a binary splits, True / False\n",
    "# the average is the value, the mean squared error is mse, this is the denominator of R2\n",
    "\n",
    "m =  RandomForestClassifier(n_estimators =1, max_depth=3, n_jobs=-1, oob_score=True)\n",
    "%time m.fit(X_train, y_train)\n",
    "print_score(m)"
   ]
  },
  {
   "cell_type": "code",
   "execution_count": 98,
   "metadata": {},
   "outputs": [
    {
     "data": {
      "image/svg+xml": [
       "<?xml version=\"1.0\" encoding=\"UTF-8\" standalone=\"no\"?>\r\n",
       "<!DOCTYPE svg PUBLIC \"-//W3C//DTD SVG 1.1//EN\"\r\n",
       " \"http://www.w3.org/Graphics/SVG/1.1/DTD/svg11.dtd\">\r\n",
       "<!-- Generated by graphviz version 2.38.0 (20140413.2041)\r\n",
       " -->\r\n",
       "<!-- Title: Tree Pages: 1 -->\r\n",
       "<svg width=\"720pt\" height=\"434pt\"\r\n",
       " viewBox=\"0.00 0.00 720.00 434.02\" xmlns=\"http://www.w3.org/2000/svg\" xmlns:xlink=\"http://www.w3.org/1999/xlink\">\r\n",
       "<g id=\"graph0\" class=\"graph\" transform=\"scale(0.632133 0.632133) rotate(0) translate(4 682.6)\">\r\n",
       "<title>Tree</title>\r\n",
       "<polygon fill=\"white\" stroke=\"none\" points=\"-4,4 -4,-682.6 1135,-682.6 1135,4 -4,4\"/>\r\n",
       "<!-- 0 -->\r\n",
       "<g id=\"node1\" class=\"node\"><title>0</title>\r\n",
       "<polygon fill=\"#39e5e2\" fill-opacity=\"0.050980\" stroke=\"black\" points=\"272.5,-372.696 -0.5,-372.696 -0.5,-304.696 272.5,-304.696 272.5,-372.696\"/>\r\n",
       "<text text-anchor=\"start\" x=\"7.5\" y=\"-357.496\" font-family=\"Times New Roman,serif\" font-size=\"14.00\">Horizontal_Distance_To_Roadways ≤ 1619.5</text>\r\n",
       "<text text-anchor=\"start\" x=\"102.5\" y=\"-342.496\" font-family=\"Times New Roman,serif\" font-size=\"14.00\">gini = 0.843</text>\r\n",
       "<text text-anchor=\"start\" x=\"92\" y=\"-327.496\" font-family=\"Times New Roman,serif\" font-size=\"14.00\">samples = 3148</text>\r\n",
       "<text text-anchor=\"start\" x=\"12.5\" y=\"-312.496\" font-family=\"Times New Roman,serif\" font-size=\"14.00\">value = [522, 717, 761, 1056, 846, 790, 308]</text>\r\n",
       "</g>\r\n",
       "<!-- 1 -->\r\n",
       "<g id=\"node2\" class=\"node\"><title>1</title>\r\n",
       "<polygon fill=\"#39e5e2\" fill-opacity=\"0.098039\" stroke=\"black\" points=\"565.5,-437.696 308.5,-437.696 308.5,-369.696 565.5,-369.696 565.5,-437.696\"/>\r\n",
       "<text text-anchor=\"start\" x=\"388\" y=\"-422.496\" font-family=\"Times New Roman,serif\" font-size=\"14.00\">Soil_Type3 ≤ 0.5</text>\r\n",
       "<text text-anchor=\"start\" x=\"403.5\" y=\"-407.496\" font-family=\"Times New Roman,serif\" font-size=\"14.00\">gini = 0.792</text>\r\n",
       "<text text-anchor=\"start\" x=\"393\" y=\"-392.496\" font-family=\"Times New Roman,serif\" font-size=\"14.00\">samples = 2267</text>\r\n",
       "<text text-anchor=\"start\" x=\"316.5\" y=\"-377.496\" font-family=\"Times New Roman,serif\" font-size=\"14.00\">value = [117, 290, 746, 1052, 595, 770, 40]</text>\r\n",
       "</g>\r\n",
       "<!-- 0&#45;&gt;1 -->\r\n",
       "<g id=\"edge1\" class=\"edge\"><title>0&#45;&gt;1</title>\r\n",
       "<path fill=\"none\" stroke=\"black\" d=\"M272.503,-368.153C281.054,-370.012 289.667,-371.885 298.229,-373.746\"/>\r\n",
       "<polygon fill=\"black\" stroke=\"black\" points=\"297.733,-377.22 308.248,-375.924 299.22,-370.38 297.733,-377.22\"/>\r\n",
       "<text text-anchor=\"middle\" x=\"287.219\" y=\"-385.743\" font-family=\"Times New Roman,serif\" font-size=\"14.00\">True</text>\r\n",
       "</g>\r\n",
       "<!-- 8 -->\r\n",
       "<g id=\"node9\" class=\"node\"><title>8</title>\r\n",
       "<polygon fill=\"#b7e539\" fill-opacity=\"0.023529\" stroke=\"black\" points=\"552,-307.696 322,-307.696 322,-239.696 552,-239.696 552,-307.696\"/>\r\n",
       "<text text-anchor=\"start\" x=\"369\" y=\"-292.496\" font-family=\"Times New Roman,serif\" font-size=\"14.00\">Wilderness_Area3 ≤ 0.5</text>\r\n",
       "<text text-anchor=\"start\" x=\"403.5\" y=\"-277.496\" font-family=\"Times New Roman,serif\" font-size=\"14.00\">gini = 0.751</text>\r\n",
       "<text text-anchor=\"start\" x=\"396\" y=\"-262.496\" font-family=\"Times New Roman,serif\" font-size=\"14.00\">samples = 881</text>\r\n",
       "<text text-anchor=\"start\" x=\"330\" y=\"-247.496\" font-family=\"Times New Roman,serif\" font-size=\"14.00\">value = [405, 427, 15, 4, 251, 20, 268]</text>\r\n",
       "</g>\r\n",
       "<!-- 0&#45;&gt;8 -->\r\n",
       "<g id=\"edge8\" class=\"edge\"><title>0&#45;&gt;8</title>\r\n",
       "<path fill=\"none\" stroke=\"black\" d=\"M272.503,-309.239C285.677,-306.375 298.999,-303.479 312.052,-300.641\"/>\r\n",
       "<polygon fill=\"black\" stroke=\"black\" points=\"312.946,-304.029 321.975,-298.484 311.459,-297.189 312.946,-304.029\"/>\r\n",
       "<text text-anchor=\"middle\" x=\"300.945\" y=\"-281.265\" font-family=\"Times New Roman,serif\" font-size=\"14.00\">False</text>\r\n",
       "</g>\r\n",
       "<!-- 2 -->\r\n",
       "<g id=\"node3\" class=\"node\"><title>2</title>\r\n",
       "<polygon fill=\"#b139e5\" fill-opacity=\"0.027451\" stroke=\"black\" points=\"852,-592.696 602,-592.696 602,-524.696 852,-524.696 852,-592.696\"/>\r\n",
       "<text text-anchor=\"start\" x=\"659\" y=\"-577.496\" font-family=\"Times New Roman,serif\" font-size=\"14.00\">Wilderness_Area1 ≤ 0.5</text>\r\n",
       "<text text-anchor=\"start\" x=\"693.5\" y=\"-562.496\" font-family=\"Times New Roman,serif\" font-size=\"14.00\">gini = 0.804</text>\r\n",
       "<text text-anchor=\"start\" x=\"683\" y=\"-547.496\" font-family=\"Times New Roman,serif\" font-size=\"14.00\">samples = 1987</text>\r\n",
       "<text text-anchor=\"start\" x=\"610\" y=\"-532.496\" font-family=\"Times New Roman,serif\" font-size=\"14.00\">value = [117, 290, 705, 658, 595, 769, 40]</text>\r\n",
       "</g>\r\n",
       "<!-- 1&#45;&gt;2 -->\r\n",
       "<g id=\"edge2\" class=\"edge\"><title>1&#45;&gt;2</title>\r\n",
       "<path fill=\"none\" stroke=\"black\" d=\"M501.203,-437.712C546.158,-461.906 606.648,-494.461 653.555,-519.707\"/>\r\n",
       "<polygon fill=\"black\" stroke=\"black\" points=\"651.983,-522.835 662.448,-524.493 655.301,-516.671 651.983,-522.835\"/>\r\n",
       "</g>\r\n",
       "<!-- 5 -->\r\n",
       "<g id=\"node6\" class=\"node\"><title>5</title>\r\n",
       "<polygon fill=\"#39e5e2\" fill-opacity=\"0.894118\" stroke=\"black\" points=\"818,-437.696 636,-437.696 636,-369.696 818,-369.696 818,-437.696\"/>\r\n",
       "<text text-anchor=\"start\" x=\"691\" y=\"-422.496\" font-family=\"Times New Roman,serif\" font-size=\"14.00\">Slope ≤ 20.5</text>\r\n",
       "<text text-anchor=\"start\" x=\"693.5\" y=\"-407.496\" font-family=\"Times New Roman,serif\" font-size=\"14.00\">gini = 0.175</text>\r\n",
       "<text text-anchor=\"start\" x=\"686\" y=\"-392.496\" font-family=\"Times New Roman,serif\" font-size=\"14.00\">samples = 280</text>\r\n",
       "<text text-anchor=\"start\" x=\"644\" y=\"-377.496\" font-family=\"Times New Roman,serif\" font-size=\"14.00\">value = [0, 0, 41, 394, 0, 1, 0]</text>\r\n",
       "</g>\r\n",
       "<!-- 1&#45;&gt;5 -->\r\n",
       "<g id=\"edge5\" class=\"edge\"><title>1&#45;&gt;5</title>\r\n",
       "<path fill=\"none\" stroke=\"black\" d=\"M565.579,-403.696C585.694,-403.696 606.243,-403.696 625.627,-403.696\"/>\r\n",
       "<polygon fill=\"black\" stroke=\"black\" points=\"625.649,-407.196 635.649,-403.696 625.649,-400.196 625.649,-407.196\"/>\r\n",
       "</g>\r\n",
       "<!-- 3 -->\r\n",
       "<g id=\"node4\" class=\"node\"><title>3</title>\r\n",
       "<polygon fill=\"#b139e5\" fill-opacity=\"0.035294\" stroke=\"black\" points=\"1130.5,-672.196 887.5,-672.196 887.5,-619.196 1130.5,-619.196 1130.5,-672.196\"/>\r\n",
       "<text text-anchor=\"start\" x=\"975.5\" y=\"-656.996\" font-family=\"Times New Roman,serif\" font-size=\"14.00\">gini = 0.764</text>\r\n",
       "<text text-anchor=\"start\" x=\"965\" y=\"-641.996\" font-family=\"Times New Roman,serif\" font-size=\"14.00\">samples = 1627</text>\r\n",
       "<text text-anchor=\"start\" x=\"895.5\" y=\"-626.996\" font-family=\"Times New Roman,serif\" font-size=\"14.00\">value = [47, 138, 705, 658, 264, 769, 31]</text>\r\n",
       "</g>\r\n",
       "<!-- 2&#45;&gt;3 -->\r\n",
       "<g id=\"edge3\" class=\"edge\"><title>2&#45;&gt;3</title>\r\n",
       "<path fill=\"none\" stroke=\"black\" d=\"M837.458,-592.706C862.263,-600.414 888.413,-608.539 912.583,-616.049\"/>\r\n",
       "<polygon fill=\"black\" stroke=\"black\" points=\"911.863,-619.49 922.451,-619.115 913.94,-612.805 911.863,-619.49\"/>\r\n",
       "</g>\r\n",
       "<!-- 4 -->\r\n",
       "<g id=\"node5\" class=\"node\"><title>4</title>\r\n",
       "<polygon fill=\"#3956e5\" fill-opacity=\"0.435294\" stroke=\"black\" points=\"1107,-585.196 911,-585.196 911,-532.196 1107,-532.196 1107,-585.196\"/>\r\n",
       "<text text-anchor=\"start\" x=\"975.5\" y=\"-569.996\" font-family=\"Times New Roman,serif\" font-size=\"14.00\">gini = 0.564</text>\r\n",
       "<text text-anchor=\"start\" x=\"968\" y=\"-554.996\" font-family=\"Times New Roman,serif\" font-size=\"14.00\">samples = 360</text>\r\n",
       "<text text-anchor=\"start\" x=\"919\" y=\"-539.996\" font-family=\"Times New Roman,serif\" font-size=\"14.00\">value = [70, 152, 0, 0, 331, 0, 9]</text>\r\n",
       "</g>\r\n",
       "<!-- 2&#45;&gt;4 -->\r\n",
       "<g id=\"edge4\" class=\"edge\"><title>2&#45;&gt;4</title>\r\n",
       "<path fill=\"none\" stroke=\"black\" d=\"M852.035,-558.696C868.234,-558.696 884.722,-558.696 900.617,-558.696\"/>\r\n",
       "<polygon fill=\"black\" stroke=\"black\" points=\"900.967,-562.196 910.967,-558.696 900.967,-555.196 900.967,-562.196\"/>\r\n",
       "</g>\r\n",
       "<!-- 6 -->\r\n",
       "<g id=\"node7\" class=\"node\"><title>6</title>\r\n",
       "<polygon fill=\"#39e5e2\" fill-opacity=\"0.682353\" stroke=\"black\" points=\"1097,-497.196 921,-497.196 921,-444.196 1097,-444.196 1097,-497.196\"/>\r\n",
       "<text text-anchor=\"start\" x=\"975.5\" y=\"-481.996\" font-family=\"Times New Roman,serif\" font-size=\"14.00\">gini = 0.372</text>\r\n",
       "<text text-anchor=\"start\" x=\"971.5\" y=\"-466.996\" font-family=\"Times New Roman,serif\" font-size=\"14.00\">samples = 64</text>\r\n",
       "<text text-anchor=\"start\" x=\"929\" y=\"-451.996\" font-family=\"Times New Roman,serif\" font-size=\"14.00\">value = [0, 0, 24, 78, 0, 1, 0]</text>\r\n",
       "</g>\r\n",
       "<!-- 5&#45;&gt;6 -->\r\n",
       "<g id=\"edge6\" class=\"edge\"><title>5&#45;&gt;6</title>\r\n",
       "<path fill=\"none\" stroke=\"black\" d=\"M818.135,-425.264C847.723,-432.344 880.73,-440.242 910.817,-447.442\"/>\r\n",
       "<polygon fill=\"black\" stroke=\"black\" points=\"910.359,-450.931 920.899,-449.854 911.988,-444.123 910.359,-450.931\"/>\r\n",
       "</g>\r\n",
       "<!-- 7 -->\r\n",
       "<g id=\"node8\" class=\"node\"><title>7</title>\r\n",
       "<polygon fill=\"#39e5e2\" fill-opacity=\"0.945098\" stroke=\"black\" points=\"1100,-409.196 918,-409.196 918,-356.196 1100,-356.196 1100,-409.196\"/>\r\n",
       "<text text-anchor=\"start\" x=\"975.5\" y=\"-393.996\" font-family=\"Times New Roman,serif\" font-size=\"14.00\">gini = 0.097</text>\r\n",
       "<text text-anchor=\"start\" x=\"968\" y=\"-378.996\" font-family=\"Times New Roman,serif\" font-size=\"14.00\">samples = 216</text>\r\n",
       "<text text-anchor=\"start\" x=\"926\" y=\"-363.996\" font-family=\"Times New Roman,serif\" font-size=\"14.00\">value = [0, 0, 17, 316, 0, 0, 0]</text>\r\n",
       "</g>\r\n",
       "<!-- 5&#45;&gt;7 -->\r\n",
       "<g id=\"edge7\" class=\"edge\"><title>5&#45;&gt;7</title>\r\n",
       "<path fill=\"none\" stroke=\"black\" d=\"M818.135,-396.936C846.594,-394.802 878.214,-392.43 907.358,-390.244\"/>\r\n",
       "<polygon fill=\"black\" stroke=\"black\" points=\"907.844,-393.718 917.554,-389.48 907.32,-386.737 907.844,-393.718\"/>\r\n",
       "</g>\r\n",
       "<!-- 9 -->\r\n",
       "<g id=\"node10\" class=\"node\"><title>9</title>\r\n",
       "<polygon fill=\"#e58139\" fill-opacity=\"0.019608\" stroke=\"black\" points=\"831.5,-307.696 622.5,-307.696 622.5,-239.696 831.5,-239.696 831.5,-307.696\"/>\r\n",
       "<text text-anchor=\"start\" x=\"694.5\" y=\"-292.496\" font-family=\"Times New Roman,serif\" font-size=\"14.00\">Id ≤ 1650.0</text>\r\n",
       "<text text-anchor=\"start\" x=\"693.5\" y=\"-277.496\" font-family=\"Times New Roman,serif\" font-size=\"14.00\">gini = 0.696</text>\r\n",
       "<text text-anchor=\"start\" x=\"686\" y=\"-262.496\" font-family=\"Times New Roman,serif\" font-size=\"14.00\">samples = 635</text>\r\n",
       "<text text-anchor=\"start\" x=\"630.5\" y=\"-247.496\" font-family=\"Times New Roman,serif\" font-size=\"14.00\">value = [369, 356, 4, 4, 72, 6, 189]</text>\r\n",
       "</g>\r\n",
       "<!-- 8&#45;&gt;9 -->\r\n",
       "<g id=\"edge9\" class=\"edge\"><title>8&#45;&gt;9</title>\r\n",
       "<path fill=\"none\" stroke=\"black\" d=\"M552.239,-273.696C571.898,-273.696 592.331,-273.696 611.984,-273.696\"/>\r\n",
       "<polygon fill=\"black\" stroke=\"black\" points=\"612.182,-277.196 622.182,-273.696 612.182,-270.196 612.182,-277.196\"/>\r\n",
       "</g>\r\n",
       "<!-- 12 -->\r\n",
       "<g id=\"node13\" class=\"node\"><title>12</title>\r\n",
       "<polygon fill=\"#3956e5\" fill-opacity=\"0.321569\" stroke=\"black\" points=\"831.5,-154.696 622.5,-154.696 622.5,-86.6962 831.5,-86.6962 831.5,-154.696\"/>\r\n",
       "<text text-anchor=\"start\" x=\"659\" y=\"-139.496\" font-family=\"Times New Roman,serif\" font-size=\"14.00\">Hillshade_Noon ≤ 241.5</text>\r\n",
       "<text text-anchor=\"start\" x=\"693.5\" y=\"-124.496\" font-family=\"Times New Roman,serif\" font-size=\"14.00\">gini = 0.705</text>\r\n",
       "<text text-anchor=\"start\" x=\"686\" y=\"-109.496\" font-family=\"Times New Roman,serif\" font-size=\"14.00\">samples = 246</text>\r\n",
       "<text text-anchor=\"start\" x=\"630.5\" y=\"-94.4962\" font-family=\"Times New Roman,serif\" font-size=\"14.00\">value = [36, 71, 11, 0, 179, 14, 79]</text>\r\n",
       "</g>\r\n",
       "<!-- 8&#45;&gt;12 -->\r\n",
       "<g id=\"edge12\" class=\"edge\"><title>8&#45;&gt;12</title>\r\n",
       "<path fill=\"none\" stroke=\"black\" d=\"M502.274,-239.55C546.88,-215.854 606.389,-184.24 652.819,-159.574\"/>\r\n",
       "<polygon fill=\"black\" stroke=\"black\" points=\"654.733,-162.52 661.922,-154.738 651.449,-156.338 654.733,-162.52\"/>\r\n",
       "</g>\r\n",
       "<!-- 10 -->\r\n",
       "<g id=\"node11\" class=\"node\"><title>10</title>\r\n",
       "<polygon fill=\"#b7e539\" fill-opacity=\"0.156863\" stroke=\"black\" points=\"1107,-322.196 911,-322.196 911,-269.196 1107,-269.196 1107,-322.196\"/>\r\n",
       "<text text-anchor=\"start\" x=\"975.5\" y=\"-306.996\" font-family=\"Times New Roman,serif\" font-size=\"14.00\">gini = 0.581</text>\r\n",
       "<text text-anchor=\"start\" x=\"968\" y=\"-291.996\" font-family=\"Times New Roman,serif\" font-size=\"14.00\">samples = 452</text>\r\n",
       "<text text-anchor=\"start\" x=\"919\" y=\"-276.996\" font-family=\"Times New Roman,serif\" font-size=\"14.00\">value = [289, 356, 0, 0, 72, 0, 0]</text>\r\n",
       "</g>\r\n",
       "<!-- 9&#45;&gt;10 -->\r\n",
       "<g id=\"edge10\" class=\"edge\"><title>9&#45;&gt;10</title>\r\n",
       "<path fill=\"none\" stroke=\"black\" d=\"M831.864,-281.857C854.268,-283.617 877.997,-285.482 900.536,-287.253\"/>\r\n",
       "<polygon fill=\"black\" stroke=\"black\" points=\"900.555,-290.765 910.799,-288.059 901.104,-283.786 900.555,-290.765\"/>\r\n",
       "</g>\r\n",
       "<!-- 11 -->\r\n",
       "<g id=\"node12\" class=\"node\"><title>11</title>\r\n",
       "<polygon fill=\"#e53986\" fill-opacity=\"0.537255\" stroke=\"black\" points=\"1100,-234.196 918,-234.196 918,-181.196 1100,-181.196 1100,-234.196\"/>\r\n",
       "<text text-anchor=\"start\" x=\"975.5\" y=\"-218.996\" font-family=\"Times New Roman,serif\" font-size=\"14.00\">gini = 0.473</text>\r\n",
       "<text text-anchor=\"start\" x=\"968\" y=\"-203.996\" font-family=\"Times New Roman,serif\" font-size=\"14.00\">samples = 183</text>\r\n",
       "<text text-anchor=\"start\" x=\"926\" y=\"-188.996\" font-family=\"Times New Roman,serif\" font-size=\"14.00\">value = [80, 0, 4, 4, 0, 6, 189]</text>\r\n",
       "</g>\r\n",
       "<!-- 9&#45;&gt;11 -->\r\n",
       "<g id=\"edge11\" class=\"edge\"><title>9&#45;&gt;11</title>\r\n",
       "<path fill=\"none\" stroke=\"black\" d=\"M831.864,-249.214C856.623,-243.378 883,-237.161 907.6,-231.362\"/>\r\n",
       "<polygon fill=\"black\" stroke=\"black\" points=\"908.727,-234.692 917.658,-228.991 907.121,-227.879 908.727,-234.692\"/>\r\n",
       "</g>\r\n",
       "<!-- 13 -->\r\n",
       "<g id=\"node14\" class=\"node\"><title>13</title>\r\n",
       "<polygon fill=\"#3956e5\" fill-opacity=\"0.152941\" stroke=\"black\" points=\"1113.5,-147.196 904.5,-147.196 904.5,-94.1962 1113.5,-94.1962 1113.5,-147.196\"/>\r\n",
       "<text text-anchor=\"start\" x=\"975.5\" y=\"-131.996\" font-family=\"Times New Roman,serif\" font-size=\"14.00\">gini = 0.749</text>\r\n",
       "<text text-anchor=\"start\" x=\"968\" y=\"-116.996\" font-family=\"Times New Roman,serif\" font-size=\"14.00\">samples = 197</text>\r\n",
       "<text text-anchor=\"start\" x=\"912.5\" y=\"-101.996\" font-family=\"Times New Roman,serif\" font-size=\"14.00\">value = [34, 59, 11, 0, 115, 14, 79]</text>\r\n",
       "</g>\r\n",
       "<!-- 12&#45;&gt;13 -->\r\n",
       "<g id=\"edge13\" class=\"edge\"><title>12&#45;&gt;13</title>\r\n",
       "<path fill=\"none\" stroke=\"black\" d=\"M831.864,-120.696C852.194,-120.696 873.615,-120.696 894.247,-120.696\"/>\r\n",
       "<polygon fill=\"black\" stroke=\"black\" points=\"894.304,-124.196 904.304,-120.696 894.304,-117.196 894.304,-124.196\"/>\r\n",
       "</g>\r\n",
       "<!-- 14 -->\r\n",
       "<g id=\"node15\" class=\"node\"><title>14</title>\r\n",
       "<polygon fill=\"#3956e5\" fill-opacity=\"0.788235\" stroke=\"black\" points=\"1097,-59.1962 921,-59.1962 921,-6.19618 1097,-6.19618 1097,-59.1962\"/>\r\n",
       "<text text-anchor=\"start\" x=\"975.5\" y=\"-43.9962\" font-family=\"Times New Roman,serif\" font-size=\"14.00\">gini = 0.302</text>\r\n",
       "<text text-anchor=\"start\" x=\"971.5\" y=\"-28.9962\" font-family=\"Times New Roman,serif\" font-size=\"14.00\">samples = 49</text>\r\n",
       "<text text-anchor=\"start\" x=\"929\" y=\"-13.9962\" font-family=\"Times New Roman,serif\" font-size=\"14.00\">value = [2, 12, 0, 0, 64, 0, 0]</text>\r\n",
       "</g>\r\n",
       "<!-- 12&#45;&gt;14 -->\r\n",
       "<g id=\"edge14\" class=\"edge\"><title>12&#45;&gt;14</title>\r\n",
       "<path fill=\"none\" stroke=\"black\" d=\"M831.864,-88.0533C858.755,-79.6019 887.555,-70.5504 913.913,-62.2663\"/>\r\n",
       "<polygon fill=\"black\" stroke=\"black\" points=\"915.015,-65.5889 923.506,-59.2515 912.916,-58.9109 915.015,-65.5889\"/>\r\n",
       "</g>\r\n",
       "</g>\r\n",
       "</svg>\r\n"
      ],
      "text/plain": [
       "<graphviz.files.Source at 0x131ed43b828>"
      ]
     },
     "metadata": {},
     "output_type": "display_data"
    }
   ],
   "source": [
    "draw_tree(m.estimators_[0], df_trn, precision=3)"
   ]
  },
  {
   "cell_type": "code",
   "execution_count": 177,
   "metadata": {},
   "outputs": [],
   "source": [
    "#rerun without subsampling\n",
    "n_valid = 12000\n",
    "n_trn = len(df_trn)-n_valid\n",
    "df_trn, y_trn, nas = proc_df(df_raw, 'Cover_Type')\n",
    "X_train, X_valid = split_vals(df_trn, n_trn)\n",
    "y_train, y_valid = split_vals(y_trn, n_trn)"
   ]
  },
  {
   "cell_type": "code",
   "execution_count": 178,
   "metadata": {},
   "outputs": [
    {
     "data": {
      "text/plain": [
       "((13120, 55), (13120,), (2000, 55))"
      ]
     },
     "execution_count": 178,
     "metadata": {},
     "output_type": "execute_result"
    }
   ],
   "source": [
    "X_train.shape, y_train.shape, X_valid.shape"
   ]
  },
  {
   "cell_type": "markdown",
   "metadata": {},
   "source": [
    "- min_samples:  Stop training the tree further when a leaf node has 3 or less samples \n",
    "(before we were going all the way down to 1).This means there will be one or two less levels of decision being made which means there are half the number of actual decision criteria we have to train (i.e. faster training time).\n",
    "- max_features=0.5 : The idea is that the less correlated your trees are with each other, the better. In addition to taking a subset of rows, at every single split point, take a different subset of columns."
   ]
  },
  {
   "cell_type": "code",
   "execution_count": 182,
   "metadata": {},
   "outputs": [
    {
     "name": "stdout",
     "output_type": "stream",
     "text": [
      "[4 3 3 ... 3 3 3]\n",
      "[0 0 1 ... 0 0 0]\n",
      "Mean Absolute Error: 0.52 degrees.\n",
      "Accuracy: 74.54 %.\n",
      "oob score is  0.8497713414634146\n"
     ]
    }
   ],
   "source": [
    "\n",
    "m = RandomForestClassifier(n_estimators=40, min_samples_leaf=3, \n",
    "                          n_jobs=-1, oob_score=True) \n",
    "\n",
    "m.fit(X_train, y_train)\n",
    "\n",
    "print_score(m)"
   ]
  },
  {
   "cell_type": "code",
   "execution_count": 166,
   "metadata": {},
   "outputs": [],
   "source": [
    "score=m.predict(X_valid)"
   ]
  },
  {
   "cell_type": "code",
   "execution_count": 167,
   "metadata": {},
   "outputs": [
    {
     "data": {
      "text/plain": [
       "array([4, 4, 3, ..., 2, 2, 2], dtype=int64)"
      ]
     },
     "execution_count": 167,
     "metadata": {},
     "output_type": "execute_result"
    }
   ],
   "source": [
    "score"
   ]
  },
  {
   "cell_type": "code",
   "execution_count": 186,
   "metadata": {},
   "outputs": [
    {
     "name": "stdout",
     "output_type": "stream",
     "text": [
      "[4 3 3 ... 3 3 3]\n",
      "[0 0 1 ... 0 0 0]\n",
      "Mean Absolute Error: 0.66 degrees.\n",
      "Accuracy: 74.98 %.\n",
      "oob score is  0.8692073170731708\n"
     ]
    }
   ],
   "source": [
    "m = RandomForestClassifier(n_estimators=50, max_depth=20, min_samples_leaf=2, max_features=0.5,\n",
    "                          n_jobs=-1, oob_score=True, random_state=30) \n",
    "\n",
    "m.fit(X_train, y_train) \n",
    "print_score(m)"
   ]
  },
  {
   "cell_type": "code",
   "execution_count": 194,
   "metadata": {},
   "outputs": [
    {
     "name": "stdout",
     "output_type": "stream",
     "text": [
      "[4 3 3 ... 3 3 3]\n",
      "[0 0 1 ... 0 0 0]\n",
      "Mean Absolute Error: 0.55 degrees.\n",
      "Accuracy: 73.47 %.\n",
      "oob score is  0.8746951219512196\n"
     ]
    }
   ],
   "source": [
    "m = RandomForestClassifier(n_estimators=100, max_depth=20, min_samples_leaf=2, max_features=20,\n",
    "                          n_jobs=-1, oob_score=True, random_state=20) \n",
    "\n",
    "m.fit(X_train, y_train) \n",
    "print_score(m)"
   ]
  },
  {
   "cell_type": "code",
   "execution_count": 196,
   "metadata": {},
   "outputs": [
    {
     "name": "stdout",
     "output_type": "stream",
     "text": [
      "[4 3 3 ... 3 3 3]\n",
      "[0 0 1 ... 0 0 0]\n",
      "Mean Absolute Error: 0.52 degrees.\n",
      "Accuracy: 76.59 %.\n",
      "oob score is  0.8825457317073171\n"
     ]
    }
   ],
   "source": [
    "m = RandomForestClassifier(n_estimators=250, max_depth=20, min_samples_leaf=2, max_features=20,\n",
    "                          n_jobs=-1, oob_score=True, random_state=20) \n",
    "\n",
    "m.fit(X_train, y_train) \n",
    "print_score(m)"
   ]
  },
  {
   "cell_type": "code",
   "execution_count": 213,
   "metadata": {},
   "outputs": [
    {
     "name": "stdout",
     "output_type": "stream",
     "text": [
      "[4 3 3 ... 3 3 3]\n",
      "[0 0 1 ... 0 0 0]\n",
      "Mean Absolute Error: 0.46 degrees.\n",
      "Accuracy: 77.32 %.\n",
      "oob score is  0.8871951219512195\n"
     ]
    }
   ],
   "source": [
    "m = RandomForestClassifier(n_estimators = 2000, random_state = 42, oob_score=True) \n",
    "\n",
    "m.fit(X_train, y_train) \n",
    "print_score(m)"
   ]
  },
  {
   "cell_type": "code",
   "execution_count": 171,
   "metadata": {},
   "outputs": [],
   "source": [
    "#filename = r\"../input/test.csv\"\n",
    "filename = f\"{PATH}test.csv\"\n",
    "df_test = pd.read_csv(filename)\n",
    "#x_test = x_test.values\n",
    "x_test, y, nas= proc_df(df_test, subset= 100)"
   ]
  },
  {
   "cell_type": "code",
   "execution_count": 173,
   "metadata": {},
   "outputs": [],
   "source": [
    "y_predict = m.predict(x_test)"
   ]
  },
  {
   "cell_type": "code",
   "execution_count": 174,
   "metadata": {},
   "outputs": [
    {
     "data": {
      "text/plain": [
       "array([1, 1, 2, 2, 2, 2, 2, 2, 1, 2], dtype=int64)"
      ]
     },
     "execution_count": 174,
     "metadata": {},
     "output_type": "execute_result"
    }
   ],
   "source": [
    "y_predict[:10]"
   ]
  },
  {
   "cell_type": "code",
   "execution_count": 133,
   "metadata": {},
   "outputs": [],
   "source": [
    "\n",
    "csvfile = open(\"sample_submission1.csv\", \"w\", encoding=\"gb18030\", newline=\"\")\n",
    "writer = csv.writer(csvfile)\n",
    "writer.writerow([\"ID\", \"Cover_Type\"])\n",
    "for i in range(len(y_predict)):\n",
    "    x = [x_test[i,0], y_predict[i]]\n",
    "    writer.writerow(x)\n",
    "csvfile.close()"
   ]
  },
  {
   "cell_type": "markdown",
   "metadata": {},
   "source": [
    "There will be quite a few hyper parameters that we are going to set and we would like to find some automated say to set them. One way to do that is to do grid search. Scikit-learn has a function called grid search and you pass in a list of all the hyper parameters you want to tune and all of the values of these hyper parameters you want to try. It will run your model on every possible combination of all these hyper parameters and tell you which one is the best. OOB score is a great choice for getting it to tell you which one is the best."
   ]
  },
  {
   "cell_type": "markdown",
   "metadata": {},
   "source": [
    "# Other method\n",
    "Since I was unable to import some of the function of fast.ai in Kaggle, still not solved, I have used the same solution but with different code. The result is a Accuracy: 85.9 % which is not too bad for the first try. The real accuracy in Kaggle resulted in 77%, still work to do."
   ]
  },
  {
   "cell_type": "code",
   "execution_count": 197,
   "metadata": {},
   "outputs": [],
   "source": [
    "# Use numpy to convert to arrays\n",
    "#code from https://towardsdatascience.com/random-forest-in-python-24d0893d51c0\n",
    "# Labels are the values we want to predict\n",
    "labels = np.array(df_raw['Cover_Type'])\n",
    "# Remove the labels from the features\n",
    "# axis 1 refers to the columns\n",
    "features= df_raw.drop('Cover_Type', axis = 1)\n",
    "# Saving feature names for later use\n",
    "\n",
    "# Convert to numpy array\n",
    "df_trn = np.array(features)\n"
   ]
  },
  {
   "cell_type": "code",
   "execution_count": 198,
   "metadata": {},
   "outputs": [
    {
     "data": {
      "text/plain": [
       "((15120,), (15120, 55))"
      ]
     },
     "execution_count": 198,
     "metadata": {},
     "output_type": "execute_result"
    }
   ],
   "source": [
    "labels.shape, df_trn.shape"
   ]
  },
  {
   "cell_type": "code",
   "execution_count": 190,
   "metadata": {},
   "outputs": [
    {
     "data": {
      "text/plain": [
       "array([[    1,  2596,    51, ...,     0,     0,     5],\n",
       "       [    2,  2590,    56, ...,     0,     0,     5],\n",
       "       [    3,  2804,   139, ...,     0,     0,     2],\n",
       "       ...,\n",
       "       [15118,  2492,   134, ...,     0,     0,     3],\n",
       "       [15119,  2487,   167, ...,     0,     0,     3],\n",
       "       [15120,  2475,   197, ...,     0,     0,     3]], dtype=int64)"
      ]
     },
     "execution_count": 190,
     "metadata": {},
     "output_type": "execute_result"
    }
   ],
   "source": [
    "features\n"
   ]
  },
  {
   "cell_type": "code",
   "execution_count": 9,
   "metadata": {},
   "outputs": [],
   "source": [
    "df_trn, labels, nas=proc_df(df_raw, 'Cover_Type') #dataframe, labels and empty"
   ]
  },
  {
   "cell_type": "code",
   "execution_count": 189,
   "metadata": {},
   "outputs": [
    {
     "data": {
      "text/plain": [
       "((15120, 55), (15120,))"
      ]
     },
     "execution_count": 189,
     "metadata": {},
     "output_type": "execute_result"
    }
   ],
   "source": [
    "df_trn.shape, labels.shape"
   ]
  },
  {
   "cell_type": "code",
   "execution_count": 199,
   "metadata": {},
   "outputs": [],
   "source": [
    "# Using Skicit-learn to split data into training and testing sets\n",
    "from sklearn.model_selection import train_test_split\n",
    "# Split the data into training and testing sets\n",
    "train_features, test_features, train_labels, test_labels = train_test_split(df_trn, labels, test_size = 0.25, random_state = 42)"
   ]
  },
  {
   "cell_type": "code",
   "execution_count": 200,
   "metadata": {},
   "outputs": [
    {
     "name": "stdout",
     "output_type": "stream",
     "text": [
      "Training Features Shape: (11340, 55)\n",
      "Training Labels Shape: (11340,)\n",
      "Testing Features Shape: (3780, 55)\n",
      "Testing Labels Shape: (3780,)\n"
     ]
    }
   ],
   "source": [
    "print('Training Features Shape:', train_features.shape)\n",
    "print('Training Labels Shape:', train_labels.shape)\n",
    "print('Testing Features Shape:', test_features.shape)\n",
    "print('Testing Labels Shape:', test_labels.shape)\n"
   ]
  },
  {
   "cell_type": "code",
   "execution_count": 225,
   "metadata": {},
   "outputs": [],
   "source": [
    "??RandomForestClassifier"
   ]
  },
  {
   "cell_type": "code",
   "execution_count": 201,
   "metadata": {},
   "outputs": [],
   "source": [
    "# Instantiate model with 1000 decision trees\n",
    "rf = RandomForestClassifier(n_estimators = 280, random_state = 45, oob_score=True, min_samples_leaf=1, max_depth=35)\n",
    "# Train the model on training data\n",
    "rf.fit(train_features, train_labels);"
   ]
  },
  {
   "cell_type": "code",
   "execution_count": 202,
   "metadata": {},
   "outputs": [
    {
     "name": "stdout",
     "output_type": "stream",
     "text": [
      "[6 3 1 ... 2 1 6]\n",
      "[6 3 1 ... 5 1 2]\n",
      "Mean Absolute Error: 0.29 degrees.\n"
     ]
    }
   ],
   "source": [
    "# Use the forest's predict method on the test data\n",
    "predictions = rf.predict(test_features)\n",
    "# Calculate the absolute errors\n",
    "errors = abs(predictions - test_labels)\n",
    "# Print out the mean absolute error (mae)\n",
    "print(predictions)\n",
    "print(test_labels)\n",
    "print('Mean Absolute Error:', round(np.mean(errors), 2), 'degrees.')"
   ]
  },
  {
   "cell_type": "code",
   "execution_count": 203,
   "metadata": {},
   "outputs": [
    {
     "name": "stdout",
     "output_type": "stream",
     "text": [
      "Accuracy: 85.2 %.\n"
     ]
    }
   ],
   "source": [
    "# Calculate mean absolute percentage error (MAPE)\n",
    "mape = 100 * (errors / test_labels)\n",
    "# Calculate and display accuracy\n",
    "accuracy = 100 - np.mean(mape)\n",
    "print('Accuracy:', round(accuracy, 2), '%.')"
   ]
  },
  {
   "cell_type": "code",
   "execution_count": 204,
   "metadata": {},
   "outputs": [],
   "source": [
    "rf = RandomForestClassifier(n_estimators=250, max_depth=35, min_samples_leaf=1, max_features=10,\n",
    "                          n_jobs=-1, oob_score=True, random_state=45) \n",
    "\n",
    "rf.fit(train_features, train_labels);"
   ]
  },
  {
   "cell_type": "code",
   "execution_count": 205,
   "metadata": {},
   "outputs": [
    {
     "name": "stdout",
     "output_type": "stream",
     "text": [
      "[6 3 1 ... 2 1 2]\n",
      "[6 3 1 ... 5 1 2]\n",
      "Mean Absolute Error: 0.28 degrees.\n"
     ]
    }
   ],
   "source": [
    "# Use the forest's predict method on the test data\n",
    "predictions = rf.predict(test_features)\n",
    "# Calculate the absolute errors\n",
    "errors = abs(predictions - test_labels)\n",
    "# Print out the mean absolute error (mae)\n",
    "print(predictions)\n",
    "print(test_labels)\n",
    "print('Mean Absolute Error:', round(np.mean(errors), 2), 'degrees.')"
   ]
  },
  {
   "cell_type": "code",
   "execution_count": 206,
   "metadata": {},
   "outputs": [
    {
     "name": "stdout",
     "output_type": "stream",
     "text": [
      "Accuracy: 85.9 %.\n"
     ]
    }
   ],
   "source": [
    "# Calculate mean absolute percentage error (MAPE)\n",
    "mape = 100 * (errors / test_labels)\n",
    "# Calculate and display accuracy\n",
    "accuracy = 100 - np.mean(mape)\n",
    "print('Accuracy:', round(accuracy, 2), '%.')"
   ]
  },
  {
   "cell_type": "code",
   "execution_count": 149,
   "metadata": {},
   "outputs": [],
   "source": [
    "#filename = r\"../input/test.csv\"\n",
    "filename = f\"{PATH}test.csv\"\n",
    "df_test = pd.read_csv(filename)\n",
    "#x_test = x_test.values\n",
    "x_test, y, nas= proc_df(df_test)"
   ]
  },
  {
   "cell_type": "code",
   "execution_count": 156,
   "metadata": {},
   "outputs": [],
   "source": [
    "y_predict = rf.predict(x_test)"
   ]
  },
  {
   "cell_type": "code",
   "execution_count": 170,
   "metadata": {},
   "outputs": [
    {
     "data": {
      "text/plain": [
       "565892"
      ]
     },
     "execution_count": 170,
     "metadata": {},
     "output_type": "execute_result"
    }
   ],
   "source": [
    "len(y_predict)"
   ]
  },
  {
   "cell_type": "code",
   "execution_count": null,
   "metadata": {},
   "outputs": [],
   "source": []
  },
  {
   "cell_type": "code",
   "execution_count": 183,
   "metadata": {},
   "outputs": [
    {
     "data": {
      "text/html": [
       "<div>\n",
       "<style scoped>\n",
       "    .dataframe tbody tr th:only-of-type {\n",
       "        vertical-align: middle;\n",
       "    }\n",
       "\n",
       "    .dataframe tbody tr th {\n",
       "        vertical-align: top;\n",
       "    }\n",
       "\n",
       "    .dataframe thead th {\n",
       "        text-align: right;\n",
       "    }\n",
       "</style>\n",
       "<table border=\"1\" class=\"dataframe\">\n",
       "  <thead>\n",
       "    <tr style=\"text-align: right;\">\n",
       "      <th></th>\n",
       "      <th>Cover_Type</th>\n",
       "      <th>Id</th>\n",
       "    </tr>\n",
       "  </thead>\n",
       "  <tbody>\n",
       "    <tr>\n",
       "      <th>0</th>\n",
       "      <td>1</td>\n",
       "      <td>15121</td>\n",
       "    </tr>\n",
       "    <tr>\n",
       "      <th>1</th>\n",
       "      <td>1</td>\n",
       "      <td>15122</td>\n",
       "    </tr>\n",
       "    <tr>\n",
       "      <th>2</th>\n",
       "      <td>2</td>\n",
       "      <td>15123</td>\n",
       "    </tr>\n",
       "    <tr>\n",
       "      <th>3</th>\n",
       "      <td>2</td>\n",
       "      <td>15124</td>\n",
       "    </tr>\n",
       "    <tr>\n",
       "      <th>4</th>\n",
       "      <td>2</td>\n",
       "      <td>15125</td>\n",
       "    </tr>\n",
       "  </tbody>\n",
       "</table>\n",
       "</div>"
      ],
      "text/plain": [
       "   Cover_Type     Id\n",
       "0           1  15121\n",
       "1           1  15122\n",
       "2           2  15123\n",
       "3           2  15124\n",
       "4           2  15125"
      ]
     },
     "execution_count": 183,
     "metadata": {},
     "output_type": "execute_result"
    }
   ],
   "source": [
    "#Create a  DataFrame with the passengers ids and our prediction regarding whether they survived or not\n",
    "submission = pd.DataFrame({'Id':x_test[\"Id\"],'Cover_Type':y_predict}).sort_index(axis=1)\n",
    "\n",
    "#Visualize the first 5 rows\n",
    "submission.sort_index(axis=1).head()"
   ]
  },
  {
   "cell_type": "code",
   "execution_count": 185,
   "metadata": {},
   "outputs": [
    {
     "name": "stdout",
     "output_type": "stream",
     "text": [
      "Saved file: F_submission2.csv\n"
     ]
    }
   ],
   "source": [
    "#Convert DataFrame to a csv file that can be uploaded\n",
    "#This is saved in the same directory as your notebook\n",
    "filename = 'F_submission2.csv'\n",
    "\n",
    "submission.to_csv(filename,index=True)\n",
    "\n",
    "print('Saved file: ' + filename)"
   ]
  },
  {
   "cell_type": "code",
   "execution_count": null,
   "metadata": {},
   "outputs": [],
   "source": [
    "csvfile = open(\"./submissions/sample_submission3.csv\", \"w\", encoding=\"utf8\", newline=\"\")\n",
    "writer = csv.writer(csvfile)\n",
    "writer.writerow([\"ID\", \"Cover_Type\"])\n",
    "for i in range(len(y_predict)):\n",
    "    x = [x_test[i,0], y_predict[i]]\n",
    "    writer.writerow(x)\n",
    "csvfile.close()"
   ]
  },
  {
   "cell_type": "markdown",
   "metadata": {},
   "source": []
  }
 ],
 "metadata": {
  "kernelspec": {
   "display_name": "Python 3",
   "language": "python",
   "name": "python3"
  },
  "language_info": {
   "codemirror_mode": {
    "name": "ipython",
    "version": 3
   },
   "file_extension": ".py",
   "mimetype": "text/x-python",
   "name": "python",
   "nbconvert_exporter": "python",
   "pygments_lexer": "ipython3",
   "version": "3.7.2"
  }
 },
 "nbformat": 4,
 "nbformat_minor": 2
}
